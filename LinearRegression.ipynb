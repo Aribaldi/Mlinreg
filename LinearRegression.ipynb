{
  "nbformat": 4,
  "nbformat_minor": 0,
  "metadata": {
    "colab": {
      "name": "LinearRegression.ipynb",
      "provenance": [],
      "include_colab_link": true
    },
    "kernelspec": {
      "name": "python3",
      "display_name": "Python 3"
    }
  },
  "cells": [
    {
      "cell_type": "markdown",
      "metadata": {
        "id": "view-in-github",
        "colab_type": "text"
      },
      "source": [
        "<a href=\"https://colab.research.google.com/github/Aribaldi/Mlinreg/blob/master/LinearRegression.ipynb\" target=\"_parent\"><img src=\"https://colab.research.google.com/assets/colab-badge.svg\" alt=\"Open In Colab\"/></a>"
      ]
    },
    {
      "cell_type": "markdown",
      "metadata": {
        "id": "fZ7_NpZnOtP2"
      },
      "source": [
        "Clone repository"
      ]
    },
    {
      "cell_type": "code",
      "metadata": {
        "colab": {
          "base_uri": "https://localhost:8080/"
        },
        "id": "Oq70HdkPT_MW",
        "outputId": "779b0d9b-d72e-45a7-f48c-ab4621d036a8"
      },
      "source": [
        "from google.colab import drive\n",
        "drive.mount('/content/drive/')"
      ],
      "execution_count": 1,
      "outputs": [
        {
          "output_type": "stream",
          "text": [
            "Mounted at /content/drive/\n"
          ],
          "name": "stdout"
        }
      ]
    },
    {
      "cell_type": "code",
      "metadata": {
        "id": "X7jWAFtcOqzc",
        "colab": {
          "base_uri": "https://localhost:8080/"
        },
        "outputId": "8ce30338-7f58-4a17-b14f-4e6f0292f062"
      },
      "source": [
        "!git clone https://github.com/Aribaldi/Mlinreg '/content/drive/MyDrive/Mlinreg/'"
      ],
      "execution_count": null,
      "outputs": [
        {
          "output_type": "stream",
          "text": [
            "Cloning into '/content/drive/MyDrive/Mlinreg'...\n",
            "remote: Enumerating objects: 34, done.\u001b[K\n",
            "remote: Counting objects: 100% (34/34), done.\u001b[K\n",
            "remote: Compressing objects: 100% (25/25), done.\u001b[K\n",
            "remote: Total 34 (delta 14), reused 20 (delta 7), pack-reused 0\u001b[K\n",
            "Unpacking objects: 100% (34/34), done.\n"
          ],
          "name": "stdout"
        }
      ]
    },
    {
      "cell_type": "code",
      "metadata": {
        "colab": {
          "base_uri": "https://localhost:8080/"
        },
        "id": "i4N1BBOfUj6b",
        "outputId": "30c7c42c-6a67-44de-a657-f21074515e94"
      },
      "source": [
        "%cd  /content/drive/MyDrive/Mlinreg/\n",
        "!git status"
      ],
      "execution_count": 2,
      "outputs": [
        {
          "output_type": "stream",
          "text": [
            "/content/drive/MyDrive/Mlinreg\n",
            "On branch master\n",
            "Your branch is up to date with 'origin/master'.\n",
            "\n",
            "Untracked files:\n",
            "  (use \"git add <file>...\" to include in what will be committed)\n",
            "\n",
            "\t\u001b[31mdata/\u001b[m\n",
            "\n",
            "nothing added to commit but untracked files present (use \"git add\" to track)\n"
          ],
          "name": "stdout"
        }
      ]
    },
    {
      "cell_type": "code",
      "metadata": {
        "id": "hxy6Y1rFJLBG",
        "outputId": "156a5f8b-46d9-4bb9-c6df-85f35d0caed3",
        "colab": {
          "base_uri": "https://localhost:8080/"
        }
      },
      "source": [
        "!git fetch"
      ],
      "execution_count": 91,
      "outputs": [
        {
          "output_type": "stream",
          "text": [
            "remote: Enumerating objects: 32, done.\u001b[K\n",
            "remote: Counting objects:   3% (1/29)\u001b[K\rremote: Counting objects:   6% (2/29)\u001b[K\rremote: Counting objects:  10% (3/29)\u001b[K\rremote: Counting objects:  13% (4/29)\u001b[K\rremote: Counting objects:  17% (5/29)\u001b[K\rremote: Counting objects:  20% (6/29)\u001b[K\rremote: Counting objects:  24% (7/29)\u001b[K\rremote: Counting objects:  27% (8/29)\u001b[K\rremote: Counting objects:  31% (9/29)\u001b[K\rremote: Counting objects:  34% (10/29)\u001b[K\rremote: Counting objects:  37% (11/29)\u001b[K\rremote: Counting objects:  41% (12/29)\u001b[K\rremote: Counting objects:  44% (13/29)\u001b[K\rremote: Counting objects:  48% (14/29)\u001b[K\rremote: Counting objects:  51% (15/29)\u001b[K\rremote: Counting objects:  55% (16/29)\u001b[K\rremote: Counting objects:  58% (17/29)\u001b[K\rremote: Counting objects:  62% (18/29)\u001b[K\rremote: Counting objects:  65% (19/29)\u001b[K\rremote: Counting objects:  68% (20/29)\u001b[K\rremote: Counting objects:  72% (21/29)\u001b[K\rremote: Counting objects:  75% (22/29)\u001b[K\rremote: Counting objects:  79% (23/29)\u001b[K\rremote: Counting objects:  82% (24/29)\u001b[K\rremote: Counting objects:  86% (25/29)\u001b[K\rremote: Counting objects:  89% (26/29)\u001b[K\rremote: Counting objects:  93% (27/29)\u001b[K\rremote: Counting objects:  96% (28/29)\u001b[K\rremote: Counting objects: 100% (29/29)\u001b[K\rremote: Counting objects: 100% (29/29), done.\u001b[K\n",
            "remote: Compressing objects: 100% (14/14), done.\u001b[K\n",
            "remote: Total 22 (delta 11), reused 16 (delta 8), pack-reused 0\u001b[K\n",
            "Unpacking objects: 100% (22/22), done.\n",
            "From https://github.com/Aribaldi/Mlinreg\n",
            "   03a4e1e..bb8e97f  master     -> origin/master\n"
          ],
          "name": "stdout"
        }
      ]
    },
    {
      "cell_type": "code",
      "metadata": {
        "id": "BXfufkchJRM5",
        "outputId": "256cfa33-25d4-4eda-b65a-5b85759dfd15",
        "colab": {
          "base_uri": "https://localhost:8080/"
        }
      },
      "source": [
        "!git pull"
      ],
      "execution_count": 93,
      "outputs": [
        {
          "output_type": "stream",
          "text": [
            "Updating 03a4e1e..bb8e97f\n",
            "Fast-forward\n",
            " LinearRegression.ipynb  | 2267 \u001b[32m+++++++++++++++++++++++++++++++++++++++++++++\u001b[m\u001b[31m--\u001b[m\n",
            " matrix.py               |   26 \u001b[32m+\u001b[m\u001b[31m-\u001b[m\n",
            " optimizers/LSM.py       |   48 \u001b[32m+\u001b[m\n",
            " optimizers/Optimizer.py |    3 \u001b[32m+\u001b[m\u001b[31m-\u001b[m\n",
            " 4 files changed, 2270 insertions(+), 74 deletions(-)\n",
            " create mode 100644 optimizers/LSM.py\n"
          ],
          "name": "stdout"
        }
      ]
    },
    {
      "cell_type": "markdown",
      "metadata": {
        "id": "GeBT9WWO3BqD"
      },
      "source": [
        "# **Скачка данных**"
      ]
    },
    {
      "cell_type": "markdown",
      "metadata": {
        "id": "mtReuNr44XPx"
      },
      "source": [
        "Download\n"
      ]
    },
    {
      "cell_type": "code",
      "metadata": {
        "id": "PrHLERq6wCVp"
      },
      "source": [
        "import os\n",
        "import pandas as pd\n",
        "import glob"
      ],
      "execution_count": 4,
      "outputs": []
    },
    {
      "cell_type": "code",
      "metadata": {
        "id": "uyJnB1VMvH0v"
      },
      "source": [
        "START_YEAR = 2020\n",
        "START_MONTH = 1\n",
        "END_YEAR = 2020\n",
        "END_MONTH = 3"
      ],
      "execution_count": null,
      "outputs": []
    },
    {
      "cell_type": "code",
      "metadata": {
        "id": "SYLtZCw8z_7n"
      },
      "source": [
        "if not os.path.exists('data/'):\n",
        "    os.makedirs('data/')\n",
        "\n",
        "!sh utils/downloader.sh {START_MONTH} {START_YEAR} {END_MONTH} {END_YEAR}"
      ],
      "execution_count": null,
      "outputs": []
    },
    {
      "cell_type": "markdown",
      "metadata": {
        "id": "URx2frycq0ym"
      },
      "source": [
        "Preprocess \n"
      ]
    },
    {
      "cell_type": "code",
      "metadata": {
        "id": "tNUBT9YJrdGs"
      },
      "source": [
        "columns = {\n",
        "    'YEAR' : 'Year', \n",
        "    'MONTH' : 'Month', \n",
        "    'DAY_OF_MONTH' : 'DayofMonth', \n",
        "    'DAY_OF_WEEK' : 'DayOfWeek', \n",
        "    'DEP_TIME' : 'DepTime', \n",
        "    'CRS_DEP_TIME' : 'CRSDepTime',\n",
        "    'ARR_TIME' : 'ArrTime',\n",
        "    'CRS_ARR_TIME' : 'CRSArrTime',\n",
        "    'OP_UNIQUE_CARRIER' : 'UniqueCarrier',\n",
        "    'OP_CARRIER_FL_NUM' : 'FlightNum', \n",
        "    'TAIL_NUM' : 'TailNum', \n",
        "    'ACTUAL_ELAPSED_TIME' : 'ActualElapsedTime', \n",
        "    'CRS_ELAPSED_TIME' : 'CRSElapsedTime', \n",
        "    'AIR_TIME' : 'AirTime',\n",
        "    'ARR_DELAY' : 'ArrDelay',\n",
        "    'DEP_DELAY' : 'DepDelay',\n",
        "    'ORIGIN' : 'Origin', \n",
        "    'DEST' : 'Dest', \n",
        "    'DISTANCE' : 'Distance',\n",
        "    'TAXI_IN' : 'TaxiIn',\n",
        "    'TAXI_OUT' : 'TaxiOut', \n",
        "    'CANCELLED' : 'Cancelled', \n",
        "    'CANCELLATION_CODE' : 'CancellationCode', \n",
        "    'DIVERTED' : 'Diverted',\n",
        "    'CARRIER_DELAY' : 'CarrierDelay', \n",
        "    'WEATHER_DELAY' : 'WeatherDelay', \n",
        "    'NAS_DELAY' : 'NASDelay', \n",
        "    'SECURITY_DELAY' : 'SecurityDelay',\n",
        "    'LATE_AIRCRAFT_DELAY' : 'LateAircraftDelay'\n",
        "}"
      ],
      "execution_count": null,
      "outputs": []
    },
    {
      "cell_type": "code",
      "metadata": {
        "colab": {
          "base_uri": "https://localhost:8080/"
        },
        "id": "FA0PwXGDZFgS",
        "outputId": "949e57d3-eb48-4e45-bab0-9e4ff2fbb70b"
      },
      "source": [
        "!pwd"
      ],
      "execution_count": null,
      "outputs": [
        {
          "output_type": "stream",
          "text": [
            "/content/drive/My Drive/Mlinreg/data\n"
          ],
          "name": "stdout"
        }
      ]
    },
    {
      "cell_type": "code",
      "metadata": {
        "id": "3nEf1yc-pmEd",
        "colab": {
          "base_uri": "https://localhost:8080/"
        },
        "outputId": "4a8aeb48-6224-4a8f-906b-3f14887a40f5"
      },
      "source": [
        "extension = 'csv'\n",
        "all_filenames = [i for i in glob.glob('*.{}'.format(extension))]\n",
        "combined_csv = pd.concat([pd.read_csv(f) for f in all_filenames])\n",
        "combined_csv.rename(columns=columns, inplace=True)\n",
        "combined_csv = combined_csv[list(columns.values())]\n",
        "combined_csv.to_csv('raw.csv', index=False, encoding='utf-8-sig')\n",
        "os.chdir('../')"
      ],
      "execution_count": null,
      "outputs": [
        {
          "output_type": "stream",
          "text": [
            "/usr/local/lib/python3.6/dist-packages/IPython/core/interactiveshell.py:2822: DtypeWarning: Columns (18) have mixed types.Specify dtype option on import or set low_memory=False.\n",
            "  if self.run_code(code, result):\n"
          ],
          "name": "stderr"
        }
      ]
    },
    {
      "cell_type": "code",
      "metadata": {
        "id": "GjGByVdWqV4j"
      },
      "source": [
        "raw = pd.read_csv('data/raw.csv')"
      ],
      "execution_count": 5,
      "outputs": []
    },
    {
      "cell_type": "code",
      "metadata": {
        "id": "Z-gp12Yrvyz8",
        "colab": {
          "base_uri": "https://localhost:8080/",
          "height": 444
        },
        "outputId": "87f47768-96ed-45a9-9730-35ebe8420eef"
      },
      "source": [
        "raw"
      ],
      "execution_count": 6,
      "outputs": [
        {
          "output_type": "execute_result",
          "data": {
            "text/html": [
              "<div>\n",
              "<style scoped>\n",
              "    .dataframe tbody tr th:only-of-type {\n",
              "        vertical-align: middle;\n",
              "    }\n",
              "\n",
              "    .dataframe tbody tr th {\n",
              "        vertical-align: top;\n",
              "    }\n",
              "\n",
              "    .dataframe thead th {\n",
              "        text-align: right;\n",
              "    }\n",
              "</style>\n",
              "<table border=\"1\" class=\"dataframe\">\n",
              "  <thead>\n",
              "    <tr style=\"text-align: right;\">\n",
              "      <th></th>\n",
              "      <th>Year</th>\n",
              "      <th>Month</th>\n",
              "      <th>DayofMonth</th>\n",
              "      <th>DayOfWeek</th>\n",
              "      <th>DepTime</th>\n",
              "      <th>CRSDepTime</th>\n",
              "      <th>ArrTime</th>\n",
              "      <th>CRSArrTime</th>\n",
              "      <th>UniqueCarrier</th>\n",
              "      <th>FlightNum</th>\n",
              "      <th>TailNum</th>\n",
              "      <th>ActualElapsedTime</th>\n",
              "      <th>CRSElapsedTime</th>\n",
              "      <th>AirTime</th>\n",
              "      <th>ArrDelay</th>\n",
              "      <th>DepDelay</th>\n",
              "      <th>Origin</th>\n",
              "      <th>Dest</th>\n",
              "      <th>Distance</th>\n",
              "      <th>TaxiIn</th>\n",
              "      <th>TaxiOut</th>\n",
              "      <th>Cancelled</th>\n",
              "      <th>CancellationCode</th>\n",
              "      <th>Diverted</th>\n",
              "      <th>CarrierDelay</th>\n",
              "      <th>WeatherDelay</th>\n",
              "      <th>NASDelay</th>\n",
              "      <th>SecurityDelay</th>\n",
              "      <th>LateAircraftDelay</th>\n",
              "    </tr>\n",
              "  </thead>\n",
              "  <tbody>\n",
              "    <tr>\n",
              "      <th>0</th>\n",
              "      <td>2020</td>\n",
              "      <td>1</td>\n",
              "      <td>17</td>\n",
              "      <td>5</td>\n",
              "      <td>909.0</td>\n",
              "      <td>845</td>\n",
              "      <td>1418.0</td>\n",
              "      <td>1410</td>\n",
              "      <td>WN</td>\n",
              "      <td>458</td>\n",
              "      <td>N7736A</td>\n",
              "      <td>189.0</td>\n",
              "      <td>205.0</td>\n",
              "      <td>171.0</td>\n",
              "      <td>8.0</td>\n",
              "      <td>24.0</td>\n",
              "      <td>LAS</td>\n",
              "      <td>MDW</td>\n",
              "      <td>1521.0</td>\n",
              "      <td>5.0</td>\n",
              "      <td>13.0</td>\n",
              "      <td>0.0</td>\n",
              "      <td>NaN</td>\n",
              "      <td>0.0</td>\n",
              "      <td>NaN</td>\n",
              "      <td>NaN</td>\n",
              "      <td>NaN</td>\n",
              "      <td>NaN</td>\n",
              "      <td>NaN</td>\n",
              "    </tr>\n",
              "    <tr>\n",
              "      <th>1</th>\n",
              "      <td>2020</td>\n",
              "      <td>1</td>\n",
              "      <td>17</td>\n",
              "      <td>5</td>\n",
              "      <td>552.0</td>\n",
              "      <td>550</td>\n",
              "      <td>1056.0</td>\n",
              "      <td>1110</td>\n",
              "      <td>WN</td>\n",
              "      <td>1469</td>\n",
              "      <td>N961WN</td>\n",
              "      <td>184.0</td>\n",
              "      <td>200.0</td>\n",
              "      <td>172.0</td>\n",
              "      <td>-14.0</td>\n",
              "      <td>2.0</td>\n",
              "      <td>LAS</td>\n",
              "      <td>MDW</td>\n",
              "      <td>1521.0</td>\n",
              "      <td>2.0</td>\n",
              "      <td>10.0</td>\n",
              "      <td>0.0</td>\n",
              "      <td>NaN</td>\n",
              "      <td>0.0</td>\n",
              "      <td>NaN</td>\n",
              "      <td>NaN</td>\n",
              "      <td>NaN</td>\n",
              "      <td>NaN</td>\n",
              "      <td>NaN</td>\n",
              "    </tr>\n",
              "    <tr>\n",
              "      <th>2</th>\n",
              "      <td>2020</td>\n",
              "      <td>1</td>\n",
              "      <td>17</td>\n",
              "      <td>5</td>\n",
              "      <td>NaN</td>\n",
              "      <td>1355</td>\n",
              "      <td>NaN</td>\n",
              "      <td>1930</td>\n",
              "      <td>WN</td>\n",
              "      <td>1486</td>\n",
              "      <td>N8667D</td>\n",
              "      <td>NaN</td>\n",
              "      <td>215.0</td>\n",
              "      <td>NaN</td>\n",
              "      <td>NaN</td>\n",
              "      <td>NaN</td>\n",
              "      <td>LAS</td>\n",
              "      <td>MDW</td>\n",
              "      <td>1521.0</td>\n",
              "      <td>NaN</td>\n",
              "      <td>NaN</td>\n",
              "      <td>1.0</td>\n",
              "      <td>B</td>\n",
              "      <td>0.0</td>\n",
              "      <td>NaN</td>\n",
              "      <td>NaN</td>\n",
              "      <td>NaN</td>\n",
              "      <td>NaN</td>\n",
              "      <td>NaN</td>\n",
              "    </tr>\n",
              "    <tr>\n",
              "      <th>3</th>\n",
              "      <td>2020</td>\n",
              "      <td>1</td>\n",
              "      <td>17</td>\n",
              "      <td>5</td>\n",
              "      <td>NaN</td>\n",
              "      <td>1640</td>\n",
              "      <td>NaN</td>\n",
              "      <td>2205</td>\n",
              "      <td>WN</td>\n",
              "      <td>1728</td>\n",
              "      <td>N567WN</td>\n",
              "      <td>NaN</td>\n",
              "      <td>205.0</td>\n",
              "      <td>NaN</td>\n",
              "      <td>NaN</td>\n",
              "      <td>NaN</td>\n",
              "      <td>LAS</td>\n",
              "      <td>MDW</td>\n",
              "      <td>1521.0</td>\n",
              "      <td>NaN</td>\n",
              "      <td>NaN</td>\n",
              "      <td>1.0</td>\n",
              "      <td>B</td>\n",
              "      <td>0.0</td>\n",
              "      <td>NaN</td>\n",
              "      <td>NaN</td>\n",
              "      <td>NaN</td>\n",
              "      <td>NaN</td>\n",
              "      <td>NaN</td>\n",
              "    </tr>\n",
              "    <tr>\n",
              "      <th>4</th>\n",
              "      <td>2020</td>\n",
              "      <td>1</td>\n",
              "      <td>17</td>\n",
              "      <td>5</td>\n",
              "      <td>739.0</td>\n",
              "      <td>740</td>\n",
              "      <td>1305.0</td>\n",
              "      <td>1305</td>\n",
              "      <td>WN</td>\n",
              "      <td>1744</td>\n",
              "      <td>N8525S</td>\n",
              "      <td>206.0</td>\n",
              "      <td>205.0</td>\n",
              "      <td>181.0</td>\n",
              "      <td>0.0</td>\n",
              "      <td>-1.0</td>\n",
              "      <td>LAS</td>\n",
              "      <td>MDW</td>\n",
              "      <td>1521.0</td>\n",
              "      <td>17.0</td>\n",
              "      <td>8.0</td>\n",
              "      <td>0.0</td>\n",
              "      <td>NaN</td>\n",
              "      <td>0.0</td>\n",
              "      <td>NaN</td>\n",
              "      <td>NaN</td>\n",
              "      <td>NaN</td>\n",
              "      <td>NaN</td>\n",
              "      <td>NaN</td>\n",
              "    </tr>\n",
              "    <tr>\n",
              "      <th>...</th>\n",
              "      <td>...</td>\n",
              "      <td>...</td>\n",
              "      <td>...</td>\n",
              "      <td>...</td>\n",
              "      <td>...</td>\n",
              "      <td>...</td>\n",
              "      <td>...</td>\n",
              "      <td>...</td>\n",
              "      <td>...</td>\n",
              "      <td>...</td>\n",
              "      <td>...</td>\n",
              "      <td>...</td>\n",
              "      <td>...</td>\n",
              "      <td>...</td>\n",
              "      <td>...</td>\n",
              "      <td>...</td>\n",
              "      <td>...</td>\n",
              "      <td>...</td>\n",
              "      <td>...</td>\n",
              "      <td>...</td>\n",
              "      <td>...</td>\n",
              "      <td>...</td>\n",
              "      <td>...</td>\n",
              "      <td>...</td>\n",
              "      <td>...</td>\n",
              "      <td>...</td>\n",
              "      <td>...</td>\n",
              "      <td>...</td>\n",
              "      <td>...</td>\n",
              "    </tr>\n",
              "    <tr>\n",
              "      <th>1829838</th>\n",
              "      <td>2020</td>\n",
              "      <td>3</td>\n",
              "      <td>1</td>\n",
              "      <td>7</td>\n",
              "      <td>1534.0</td>\n",
              "      <td>1530</td>\n",
              "      <td>1916.0</td>\n",
              "      <td>1920</td>\n",
              "      <td>UA</td>\n",
              "      <td>201</td>\n",
              "      <td>N776UA</td>\n",
              "      <td>462.0</td>\n",
              "      <td>470.0</td>\n",
              "      <td>435.0</td>\n",
              "      <td>-4.0</td>\n",
              "      <td>4.0</td>\n",
              "      <td>HNL</td>\n",
              "      <td>GUM</td>\n",
              "      <td>3801.0</td>\n",
              "      <td>3.0</td>\n",
              "      <td>24.0</td>\n",
              "      <td>0.0</td>\n",
              "      <td>NaN</td>\n",
              "      <td>0.0</td>\n",
              "      <td>NaN</td>\n",
              "      <td>NaN</td>\n",
              "      <td>NaN</td>\n",
              "      <td>NaN</td>\n",
              "      <td>NaN</td>\n",
              "    </tr>\n",
              "    <tr>\n",
              "      <th>1829839</th>\n",
              "      <td>2020</td>\n",
              "      <td>3</td>\n",
              "      <td>1</td>\n",
              "      <td>7</td>\n",
              "      <td>732.0</td>\n",
              "      <td>740</td>\n",
              "      <td>1829.0</td>\n",
              "      <td>1845</td>\n",
              "      <td>UA</td>\n",
              "      <td>200</td>\n",
              "      <td>N779UA</td>\n",
              "      <td>417.0</td>\n",
              "      <td>425.0</td>\n",
              "      <td>400.0</td>\n",
              "      <td>-16.0</td>\n",
              "      <td>-8.0</td>\n",
              "      <td>GUM</td>\n",
              "      <td>HNL</td>\n",
              "      <td>3801.0</td>\n",
              "      <td>4.0</td>\n",
              "      <td>13.0</td>\n",
              "      <td>0.0</td>\n",
              "      <td>NaN</td>\n",
              "      <td>0.0</td>\n",
              "      <td>NaN</td>\n",
              "      <td>NaN</td>\n",
              "      <td>NaN</td>\n",
              "      <td>NaN</td>\n",
              "      <td>NaN</td>\n",
              "    </tr>\n",
              "    <tr>\n",
              "      <th>1829840</th>\n",
              "      <td>2020</td>\n",
              "      <td>3</td>\n",
              "      <td>1</td>\n",
              "      <td>7</td>\n",
              "      <td>717.0</td>\n",
              "      <td>730</td>\n",
              "      <td>756.0</td>\n",
              "      <td>811</td>\n",
              "      <td>UA</td>\n",
              "      <td>174</td>\n",
              "      <td>N79279</td>\n",
              "      <td>39.0</td>\n",
              "      <td>41.0</td>\n",
              "      <td>24.0</td>\n",
              "      <td>-15.0</td>\n",
              "      <td>-13.0</td>\n",
              "      <td>GUM</td>\n",
              "      <td>SPN</td>\n",
              "      <td>129.0</td>\n",
              "      <td>4.0</td>\n",
              "      <td>11.0</td>\n",
              "      <td>0.0</td>\n",
              "      <td>NaN</td>\n",
              "      <td>0.0</td>\n",
              "      <td>NaN</td>\n",
              "      <td>NaN</td>\n",
              "      <td>NaN</td>\n",
              "      <td>NaN</td>\n",
              "      <td>NaN</td>\n",
              "    </tr>\n",
              "    <tr>\n",
              "      <th>1829841</th>\n",
              "      <td>2020</td>\n",
              "      <td>3</td>\n",
              "      <td>1</td>\n",
              "      <td>7</td>\n",
              "      <td>849.0</td>\n",
              "      <td>915</td>\n",
              "      <td>925.0</td>\n",
              "      <td>955</td>\n",
              "      <td>UA</td>\n",
              "      <td>117</td>\n",
              "      <td>N79279</td>\n",
              "      <td>36.0</td>\n",
              "      <td>40.0</td>\n",
              "      <td>24.0</td>\n",
              "      <td>-30.0</td>\n",
              "      <td>-26.0</td>\n",
              "      <td>SPN</td>\n",
              "      <td>GUM</td>\n",
              "      <td>129.0</td>\n",
              "      <td>3.0</td>\n",
              "      <td>9.0</td>\n",
              "      <td>0.0</td>\n",
              "      <td>NaN</td>\n",
              "      <td>0.0</td>\n",
              "      <td>NaN</td>\n",
              "      <td>NaN</td>\n",
              "      <td>NaN</td>\n",
              "      <td>NaN</td>\n",
              "      <td>NaN</td>\n",
              "    </tr>\n",
              "    <tr>\n",
              "      <th>1829842</th>\n",
              "      <td>2020</td>\n",
              "      <td>3</td>\n",
              "      <td>1</td>\n",
              "      <td>7</td>\n",
              "      <td>201.0</td>\n",
              "      <td>150</td>\n",
              "      <td>922.0</td>\n",
              "      <td>904</td>\n",
              "      <td>UA</td>\n",
              "      <td>69</td>\n",
              "      <td>N17105</td>\n",
              "      <td>321.0</td>\n",
              "      <td>314.0</td>\n",
              "      <td>296.0</td>\n",
              "      <td>18.0</td>\n",
              "      <td>11.0</td>\n",
              "      <td>OGG</td>\n",
              "      <td>LAX</td>\n",
              "      <td>2486.0</td>\n",
              "      <td>14.0</td>\n",
              "      <td>11.0</td>\n",
              "      <td>0.0</td>\n",
              "      <td>NaN</td>\n",
              "      <td>0.0</td>\n",
              "      <td>11.0</td>\n",
              "      <td>0.0</td>\n",
              "      <td>7.0</td>\n",
              "      <td>0.0</td>\n",
              "      <td>0.0</td>\n",
              "    </tr>\n",
              "  </tbody>\n",
              "</table>\n",
              "<p>1829843 rows × 29 columns</p>\n",
              "</div>"
            ],
            "text/plain": [
              "         Year  Month  DayofMonth  ...  NASDelay  SecurityDelay  LateAircraftDelay\n",
              "0        2020      1          17  ...       NaN            NaN                NaN\n",
              "1        2020      1          17  ...       NaN            NaN                NaN\n",
              "2        2020      1          17  ...       NaN            NaN                NaN\n",
              "3        2020      1          17  ...       NaN            NaN                NaN\n",
              "4        2020      1          17  ...       NaN            NaN                NaN\n",
              "...       ...    ...         ...  ...       ...            ...                ...\n",
              "1829838  2020      3           1  ...       NaN            NaN                NaN\n",
              "1829839  2020      3           1  ...       NaN            NaN                NaN\n",
              "1829840  2020      3           1  ...       NaN            NaN                NaN\n",
              "1829841  2020      3           1  ...       NaN            NaN                NaN\n",
              "1829842  2020      3           1  ...       7.0            0.0                0.0\n",
              "\n",
              "[1829843 rows x 29 columns]"
            ]
          },
          "metadata": {
            "tags": []
          },
          "execution_count": 6
        }
      ]
    },
    {
      "cell_type": "markdown",
      "metadata": {
        "id": "r9wO1ND7buDY"
      },
      "source": [
        ""
      ]
    },
    {
      "cell_type": "markdown",
      "metadata": {
        "id": "yjXwipCsDFlE"
      },
      "source": [
        "# **Анализ фич**"
      ]
    },
    {
      "cell_type": "markdown",
      "metadata": {
        "id": "oD64F8Tb6YSp"
      },
      "source": [
        "EDA"
      ]
    },
    {
      "cell_type": "markdown",
      "metadata": {
        "id": "BUBPxYc17DbD"
      },
      "source": [
        "**Чистка**\n",
        "\n",
        "\n",
        "*   Дроп лишних столбцов\n",
        "*   Дроп отмененных и перенаправленных полетов\n"
      ]
    },
    {
      "cell_type": "code",
      "metadata": {
        "id": "0ok9_eh_6Y6q",
        "colab": {
          "base_uri": "https://localhost:8080/",
          "height": 424
        },
        "outputId": "79cf1da0-88c0-41bd-bc5f-28b98b0ce339"
      },
      "source": [
        "df = raw.drop(['Year', 'ArrTime', 'CRSArrTime', 'FlightNum', 'TailNum', \n",
        "               'ActualElapsedTime', 'CRSElapsedTime', 'AirTime', 'ArrDelay', 'TaxiIn', 'TaxiOut', \n",
        "               'CarrierDelay', 'WeatherDelay', 'NASDelay', 'SecurityDelay', 'LateAircraftDelay', 'CancellationCode', 'DepTime' ], axis=1)\n",
        "df = df[(df.Cancelled != 1.) & (df.Diverted != 1.)]\n",
        "df = df.drop(['Cancelled', 'Diverted'], axis=1)\n",
        "df['CRSDepTime'].isna().sum()\n",
        "temp = df['CRSDepTime'].to_numpy()\n",
        "temp = list(map(lambda x: x // 100 * 60 + x % 100, temp))\n",
        "df['CRSDepTime'] = pd.Series(temp, index=df.index)\n",
        "df"
      ],
      "execution_count": 7,
      "outputs": [
        {
          "output_type": "execute_result",
          "data": {
            "text/html": [
              "<div>\n",
              "<style scoped>\n",
              "    .dataframe tbody tr th:only-of-type {\n",
              "        vertical-align: middle;\n",
              "    }\n",
              "\n",
              "    .dataframe tbody tr th {\n",
              "        vertical-align: top;\n",
              "    }\n",
              "\n",
              "    .dataframe thead th {\n",
              "        text-align: right;\n",
              "    }\n",
              "</style>\n",
              "<table border=\"1\" class=\"dataframe\">\n",
              "  <thead>\n",
              "    <tr style=\"text-align: right;\">\n",
              "      <th></th>\n",
              "      <th>Month</th>\n",
              "      <th>DayofMonth</th>\n",
              "      <th>DayOfWeek</th>\n",
              "      <th>CRSDepTime</th>\n",
              "      <th>UniqueCarrier</th>\n",
              "      <th>DepDelay</th>\n",
              "      <th>Origin</th>\n",
              "      <th>Dest</th>\n",
              "      <th>Distance</th>\n",
              "    </tr>\n",
              "  </thead>\n",
              "  <tbody>\n",
              "    <tr>\n",
              "      <th>0</th>\n",
              "      <td>1</td>\n",
              "      <td>17</td>\n",
              "      <td>5</td>\n",
              "      <td>525</td>\n",
              "      <td>WN</td>\n",
              "      <td>24.0</td>\n",
              "      <td>LAS</td>\n",
              "      <td>MDW</td>\n",
              "      <td>1521.0</td>\n",
              "    </tr>\n",
              "    <tr>\n",
              "      <th>1</th>\n",
              "      <td>1</td>\n",
              "      <td>17</td>\n",
              "      <td>5</td>\n",
              "      <td>350</td>\n",
              "      <td>WN</td>\n",
              "      <td>2.0</td>\n",
              "      <td>LAS</td>\n",
              "      <td>MDW</td>\n",
              "      <td>1521.0</td>\n",
              "    </tr>\n",
              "    <tr>\n",
              "      <th>4</th>\n",
              "      <td>1</td>\n",
              "      <td>17</td>\n",
              "      <td>5</td>\n",
              "      <td>460</td>\n",
              "      <td>WN</td>\n",
              "      <td>-1.0</td>\n",
              "      <td>LAS</td>\n",
              "      <td>MDW</td>\n",
              "      <td>1521.0</td>\n",
              "    </tr>\n",
              "    <tr>\n",
              "      <th>6</th>\n",
              "      <td>1</td>\n",
              "      <td>17</td>\n",
              "      <td>5</td>\n",
              "      <td>1160</td>\n",
              "      <td>WN</td>\n",
              "      <td>1.0</td>\n",
              "      <td>LAS</td>\n",
              "      <td>MKE</td>\n",
              "      <td>1524.0</td>\n",
              "    </tr>\n",
              "    <tr>\n",
              "      <th>7</th>\n",
              "      <td>1</td>\n",
              "      <td>17</td>\n",
              "      <td>5</td>\n",
              "      <td>560</td>\n",
              "      <td>WN</td>\n",
              "      <td>13.0</td>\n",
              "      <td>LAS</td>\n",
              "      <td>MKE</td>\n",
              "      <td>1524.0</td>\n",
              "    </tr>\n",
              "    <tr>\n",
              "      <th>...</th>\n",
              "      <td>...</td>\n",
              "      <td>...</td>\n",
              "      <td>...</td>\n",
              "      <td>...</td>\n",
              "      <td>...</td>\n",
              "      <td>...</td>\n",
              "      <td>...</td>\n",
              "      <td>...</td>\n",
              "      <td>...</td>\n",
              "    </tr>\n",
              "    <tr>\n",
              "      <th>1829838</th>\n",
              "      <td>3</td>\n",
              "      <td>1</td>\n",
              "      <td>7</td>\n",
              "      <td>930</td>\n",
              "      <td>UA</td>\n",
              "      <td>4.0</td>\n",
              "      <td>HNL</td>\n",
              "      <td>GUM</td>\n",
              "      <td>3801.0</td>\n",
              "    </tr>\n",
              "    <tr>\n",
              "      <th>1829839</th>\n",
              "      <td>3</td>\n",
              "      <td>1</td>\n",
              "      <td>7</td>\n",
              "      <td>460</td>\n",
              "      <td>UA</td>\n",
              "      <td>-8.0</td>\n",
              "      <td>GUM</td>\n",
              "      <td>HNL</td>\n",
              "      <td>3801.0</td>\n",
              "    </tr>\n",
              "    <tr>\n",
              "      <th>1829840</th>\n",
              "      <td>3</td>\n",
              "      <td>1</td>\n",
              "      <td>7</td>\n",
              "      <td>450</td>\n",
              "      <td>UA</td>\n",
              "      <td>-13.0</td>\n",
              "      <td>GUM</td>\n",
              "      <td>SPN</td>\n",
              "      <td>129.0</td>\n",
              "    </tr>\n",
              "    <tr>\n",
              "      <th>1829841</th>\n",
              "      <td>3</td>\n",
              "      <td>1</td>\n",
              "      <td>7</td>\n",
              "      <td>555</td>\n",
              "      <td>UA</td>\n",
              "      <td>-26.0</td>\n",
              "      <td>SPN</td>\n",
              "      <td>GUM</td>\n",
              "      <td>129.0</td>\n",
              "    </tr>\n",
              "    <tr>\n",
              "      <th>1829842</th>\n",
              "      <td>3</td>\n",
              "      <td>1</td>\n",
              "      <td>7</td>\n",
              "      <td>110</td>\n",
              "      <td>UA</td>\n",
              "      <td>11.0</td>\n",
              "      <td>OGG</td>\n",
              "      <td>LAX</td>\n",
              "      <td>2486.0</td>\n",
              "    </tr>\n",
              "  </tbody>\n",
              "</table>\n",
              "<p>1704589 rows × 9 columns</p>\n",
              "</div>"
            ],
            "text/plain": [
              "         Month  DayofMonth  DayOfWeek  ...  Origin Dest  Distance\n",
              "0            1          17          5  ...     LAS  MDW    1521.0\n",
              "1            1          17          5  ...     LAS  MDW    1521.0\n",
              "4            1          17          5  ...     LAS  MDW    1521.0\n",
              "6            1          17          5  ...     LAS  MKE    1524.0\n",
              "7            1          17          5  ...     LAS  MKE    1524.0\n",
              "...        ...         ...        ...  ...     ...  ...       ...\n",
              "1829838      3           1          7  ...     HNL  GUM    3801.0\n",
              "1829839      3           1          7  ...     GUM  HNL    3801.0\n",
              "1829840      3           1          7  ...     GUM  SPN     129.0\n",
              "1829841      3           1          7  ...     SPN  GUM     129.0\n",
              "1829842      3           1          7  ...     OGG  LAX    2486.0\n",
              "\n",
              "[1704589 rows x 9 columns]"
            ]
          },
          "metadata": {
            "tags": []
          },
          "execution_count": 7
        }
      ]
    },
    {
      "cell_type": "code",
      "metadata": {
        "colab": {
          "base_uri": "https://localhost:8080/",
          "height": 850
        },
        "id": "JXB6HJtF8KPV",
        "outputId": "22dec056-5004-48c4-b514-5efd069295a6"
      },
      "source": [
        "from matplotlib import pyplot as plt\n",
        "import seaborn as sns\n",
        "cmat = df.corr()\n",
        "fig, ax = plt.subplots(figsize=(15, 15))\n",
        "sns.heatmap(cmat, vmax=.8, square=True)\n",
        "plt.show()"
      ],
      "execution_count": null,
      "outputs": [
        {
          "output_type": "display_data",
          "data": {
            "image/png": "[encoded data removed]",
            "text/plain": [
              "<Figure size 1080x1080 with 2 Axes>"
            ]
          },
          "metadata": {
            "tags": []
          }
        }
      ]
    },
    {
      "cell_type": "markdown",
      "metadata": {
        "id": "iWzuKJC070Uf"
      },
      "source": [
        "**Анализ множества значений различных фич**"
      ]
    },
    {
      "cell_type": "code",
      "metadata": {
        "colab": {
          "base_uri": "https://localhost:8080/"
        },
        "id": "HReBypaH22O2",
        "outputId": "4e3cd69b-af75-461c-f390-978af18a2f74"
      },
      "source": [
        "import numpy as np\n",
        "carriers_list = np.unique(df['UniqueCarrier'].to_numpy())\n",
        "print(f\"Carriers list: \\n {carriers_list}\")\n",
        "routs_count = df.groupby(['Origin', 'Dest']).size().reset_index().rename(columns={0:'count'})\n",
        "print(f\"Routs count: \\n {routs_count}\")\n",
        "airports_list = np.unique(df['Origin'].to_numpy())\n",
        "print(f\"Airports num: {airports_list.shape}\")"
      ],
      "execution_count": null,
      "outputs": [
        {
          "output_type": "stream",
          "text": [
            "Carriers list: \n",
            " ['9E' 'AA' 'AS' 'B6' 'DL' 'EV' 'F9' 'G4' 'HA' 'MQ' 'NK' 'OH' 'OO' 'UA'\n",
            " 'WN' 'YV' 'YX']\n",
            "Routs count: \n",
            "      Origin Dest  count\n",
            "0       ABE  ATL    206\n",
            "1       ABE  BNA     13\n",
            "2       ABE  CLT    249\n",
            "3       ABE  DTW    231\n",
            "4       ABE  FLL     18\n",
            "...     ...  ...    ...\n",
            "5885    XWA  MSP    175\n",
            "5886    YAK  CDV     74\n",
            "5887    YAK  JNU     83\n",
            "5888    YUM  DFW     97\n",
            "5889    YUM  PHX    422\n",
            "\n",
            "[5890 rows x 3 columns]\n",
            "Airports num: (353,)\n"
          ],
          "name": "stdout"
        }
      ]
    },
    {
      "cell_type": "markdown",
      "metadata": {
        "id": "MkfyxlfI8Mwq"
      },
      "source": [
        "**Статистика по авиакомпаниям-перевозчикам**"
      ]
    },
    {
      "cell_type": "code",
      "metadata": {
        "colab": {
          "base_uri": "https://localhost:8080/",
          "height": 614
        },
        "id": "UEfxrx613mjo",
        "outputId": "3b0d3069-9729-4710-d320-c3335a35807c"
      },
      "source": [
        "def get_stats(group):\n",
        "    return {'min': group.min(), 'max': group.max(),\n",
        "            'count': group.count(), 'mean': group.mean()}\n",
        "global_stats = df['DepDelay'].groupby(df['UniqueCarrier']).apply(get_stats).unstack()\n",
        "global_stats = global_stats.sort_values('count')\n",
        "global_stats"
      ],
      "execution_count": null,
      "outputs": [
        {
          "output_type": "execute_result",
          "data": {
            "text/html": [
              "<div>\n",
              "<style scoped>\n",
              "    .dataframe tbody tr th:only-of-type {\n",
              "        vertical-align: middle;\n",
              "    }\n",
              "\n",
              "    .dataframe tbody tr th {\n",
              "        vertical-align: top;\n",
              "    }\n",
              "\n",
              "    .dataframe thead th {\n",
              "        text-align: right;\n",
              "    }\n",
              "</style>\n",
              "<table border=\"1\" class=\"dataframe\">\n",
              "  <thead>\n",
              "    <tr style=\"text-align: right;\">\n",
              "      <th></th>\n",
              "      <th>min</th>\n",
              "      <th>max</th>\n",
              "      <th>count</th>\n",
              "      <th>mean</th>\n",
              "    </tr>\n",
              "    <tr>\n",
              "      <th>UniqueCarrier</th>\n",
              "      <th></th>\n",
              "      <th></th>\n",
              "      <th></th>\n",
              "      <th></th>\n",
              "    </tr>\n",
              "  </thead>\n",
              "  <tbody>\n",
              "    <tr>\n",
              "      <th>HA</th>\n",
              "      <td>-43.0</td>\n",
              "      <td>1483.0</td>\n",
              "      <td>19623.0</td>\n",
              "      <td>0.117006</td>\n",
              "    </tr>\n",
              "    <tr>\n",
              "      <th>G4</th>\n",
              "      <td>-66.0</td>\n",
              "      <td>1507.0</td>\n",
              "      <td>25171.0</td>\n",
              "      <td>7.781733</td>\n",
              "    </tr>\n",
              "    <tr>\n",
              "      <th>EV</th>\n",
              "      <td>-31.0</td>\n",
              "      <td>1290.0</td>\n",
              "      <td>31981.0</td>\n",
              "      <td>1.710985</td>\n",
              "    </tr>\n",
              "    <tr>\n",
              "      <th>F9</th>\n",
              "      <td>-39.0</td>\n",
              "      <td>645.0</td>\n",
              "      <td>33741.0</td>\n",
              "      <td>4.731425</td>\n",
              "    </tr>\n",
              "    <tr>\n",
              "      <th>YV</th>\n",
              "      <td>-56.0</td>\n",
              "      <td>1890.0</td>\n",
              "      <td>49257.0</td>\n",
              "      <td>8.097590</td>\n",
              "    </tr>\n",
              "    <tr>\n",
              "      <th>NK</th>\n",
              "      <td>-47.0</td>\n",
              "      <td>1083.0</td>\n",
              "      <td>52863.0</td>\n",
              "      <td>6.942701</td>\n",
              "    </tr>\n",
              "    <tr>\n",
              "      <th>AS</th>\n",
              "      <td>-80.0</td>\n",
              "      <td>823.0</td>\n",
              "      <td>58475.0</td>\n",
              "      <td>2.863395</td>\n",
              "    </tr>\n",
              "    <tr>\n",
              "      <th>9E</th>\n",
              "      <td>-41.0</td>\n",
              "      <td>2579.0</td>\n",
              "      <td>66990.0</td>\n",
              "      <td>4.220436</td>\n",
              "    </tr>\n",
              "    <tr>\n",
              "      <th>OH</th>\n",
              "      <td>-49.0</td>\n",
              "      <td>1919.0</td>\n",
              "      <td>67350.0</td>\n",
              "      <td>11.836006</td>\n",
              "    </tr>\n",
              "    <tr>\n",
              "      <th>B6</th>\n",
              "      <td>-43.0</td>\n",
              "      <td>1135.0</td>\n",
              "      <td>69274.0</td>\n",
              "      <td>4.051231</td>\n",
              "    </tr>\n",
              "    <tr>\n",
              "      <th>MQ</th>\n",
              "      <td>-33.0</td>\n",
              "      <td>1703.0</td>\n",
              "      <td>72342.0</td>\n",
              "      <td>4.654613</td>\n",
              "    </tr>\n",
              "    <tr>\n",
              "      <th>YX</th>\n",
              "      <td>-56.0</td>\n",
              "      <td>1258.0</td>\n",
              "      <td>81872.0</td>\n",
              "      <td>2.095833</td>\n",
              "    </tr>\n",
              "    <tr>\n",
              "      <th>UA</th>\n",
              "      <td>-46.0</td>\n",
              "      <td>1471.0</td>\n",
              "      <td>135494.0</td>\n",
              "      <td>4.343447</td>\n",
              "    </tr>\n",
              "    <tr>\n",
              "      <th>OO</th>\n",
              "      <td>-68.0</td>\n",
              "      <td>2327.0</td>\n",
              "      <td>201568.0</td>\n",
              "      <td>7.881826</td>\n",
              "    </tr>\n",
              "    <tr>\n",
              "      <th>AA</th>\n",
              "      <td>-74.0</td>\n",
              "      <td>2814.0</td>\n",
              "      <td>212002.0</td>\n",
              "      <td>6.478321</td>\n",
              "    </tr>\n",
              "    <tr>\n",
              "      <th>DL</th>\n",
              "      <td>-42.0</td>\n",
              "      <td>1195.0</td>\n",
              "      <td>221805.0</td>\n",
              "      <td>4.120182</td>\n",
              "    </tr>\n",
              "    <tr>\n",
              "      <th>WN</th>\n",
              "      <td>-40.0</td>\n",
              "      <td>602.0</td>\n",
              "      <td>304781.0</td>\n",
              "      <td>3.109423</td>\n",
              "    </tr>\n",
              "  </tbody>\n",
              "</table>\n",
              "</div>"
            ],
            "text/plain": [
              "                min     max     count       mean\n",
              "UniqueCarrier                                   \n",
              "HA            -43.0  1483.0   19623.0   0.117006\n",
              "G4            -66.0  1507.0   25171.0   7.781733\n",
              "EV            -31.0  1290.0   31981.0   1.710985\n",
              "F9            -39.0   645.0   33741.0   4.731425\n",
              "YV            -56.0  1890.0   49257.0   8.097590\n",
              "NK            -47.0  1083.0   52863.0   6.942701\n",
              "AS            -80.0   823.0   58475.0   2.863395\n",
              "9E            -41.0  2579.0   66990.0   4.220436\n",
              "OH            -49.0  1919.0   67350.0  11.836006\n",
              "B6            -43.0  1135.0   69274.0   4.051231\n",
              "MQ            -33.0  1703.0   72342.0   4.654613\n",
              "YX            -56.0  1258.0   81872.0   2.095833\n",
              "UA            -46.0  1471.0  135494.0   4.343447\n",
              "OO            -68.0  2327.0  201568.0   7.881826\n",
              "AA            -74.0  2814.0  212002.0   6.478321\n",
              "DL            -42.0  1195.0  221805.0   4.120182\n",
              "WN            -40.0   602.0  304781.0   3.109423"
            ]
          },
          "metadata": {
            "tags": []
          },
          "execution_count": 69
        }
      ]
    },
    {
      "cell_type": "code",
      "metadata": {
        "colab": {
          "base_uri": "https://localhost:8080/",
          "height": 458
        },
        "id": "lLoiJTIn50Dp",
        "outputId": "916aa947-ecb0-426d-be1a-8271746474e4"
      },
      "source": [
        "delay_type = lambda x:((0,1)[x > 5],2)[x > 45]\n",
        "df['DelayLevel'] = df['DepDelay'].apply(delay_type)\n",
        "fig = plt.figure(1, figsize=(10,7))\n",
        "ax = sns.countplot(y=\"UniqueCarrier\", hue='DelayLevel', data=df)\n",
        "labels = [item for item in ax.get_yticklabels()]\n",
        "ax.set_yticklabels(labels)\n",
        "plt.setp(ax.get_xticklabels(), fontsize=12, weight = 'normal', rotation = 0);\n",
        "plt.setp(ax.get_yticklabels(), fontsize=12, weight = 'bold', rotation = 0);\n",
        "ax.yaxis.label.set_visible(False)\n",
        "plt.xlabel('Число полетов с различными видами задержек по компаниям', fontsize=16, weight = 'bold', labelpad=10)\n",
        "L = plt.legend()\n",
        "L.get_texts()[0].set_text('on time (t < 5 min)')\n",
        "L.get_texts()[1].set_text('small delay (5 < t < 45 min)')\n",
        "L.get_texts()[2].set_text('large delay (t > 45 min)')\n",
        "plt.show()"
      ],
      "execution_count": null,
      "outputs": [
        {
          "output_type": "display_data",
          "data": {
            "image/png": "[encoded data removed]",
            "text/plain": [
              "<Figure size 720x504 with 1 Axes>"
            ]
          },
          "metadata": {
            "tags": []
          }
        }
      ]
    },
    {
      "cell_type": "code",
      "metadata": {
        "id": "bSoO_S65_HVP",
        "colab": {
          "base_uri": "https://localhost:8080/",
          "height": 622
        },
        "outputId": "dded80dc-3008-4ca9-f97a-b255e2d8cba8"
      },
      "source": [
        "airport_mean_delays = pd.DataFrame(pd.Series(df['Origin'].unique()))\n",
        "airport_mean_delays.set_index(0, drop = True, inplace = True)\n",
        "\n",
        "for carrier in carriers_list:\n",
        "    df1 = df[df['UniqueCarrier'] == carrier]\n",
        "    test = df1['DepDelay'].groupby(df['Origin']).apply(get_stats).unstack()\n",
        "    airport_mean_delays[carrier] = test.loc[:, 'mean']\n",
        "\n",
        "sns.set(context=\"paper\")\n",
        "fig = plt.figure(1, figsize=(8,8))\n",
        "\n",
        "ax = fig.add_subplot(1,2,1)\n",
        "subset = airport_mean_delays.iloc[:50,:]\n",
        "mask = subset.isnull()\n",
        "sns.heatmap(subset, linewidths=0.01, cmap=\"Accent\", mask=mask, vmin = 0, vmax = 35)\n",
        "plt.setp(ax.get_xticklabels(), fontsize=10, rotation = 85) ;\n",
        "ax.yaxis.label.set_visible(False)\n",
        "\n",
        "ax = fig.add_subplot(1,2,2)    \n",
        "subset = airport_mean_delays.iloc[50:100,:]\n",
        "fig.text(0.5, 1.02, \"Влияние комбинации аэропорт/компания на задержку\", ha='center', fontsize = 18)\n",
        "mask = subset.isnull()\n",
        "sns.heatmap(subset, linewidths=0.01, cmap=\"Accent\", mask=mask, vmin = 0, vmax = 35)\n",
        "plt.setp(ax.get_xticklabels(), fontsize=10, rotation = 85) ;\n",
        "ax.yaxis.label.set_visible(False)\n",
        "\n",
        "plt.tight_layout()"
      ],
      "execution_count": null,
      "outputs": [
        {
          "output_type": "display_data",
          "data": {
            "image/png": "[encoded data removed]",
            "text/plain": [
              "<Figure size 576x576 with 4 Axes>"
            ]
          },
          "metadata": {
            "tags": []
          }
        }
      ]
    },
    {
      "cell_type": "code",
      "metadata": {
        "id": "9JS3fCY0Dsal"
      },
      "source": [
        "carrier = 'WN'\n",
        "id_airport = 4\n",
        "list_origin_airport = df[df['UniqueCarrier'] == carrier]['Origin'].unique()\n",
        "df2 = df[(df['UniqueCarrier'] == carrier) & (df['Origin'] == list_origin_airport[id_airport])]\n",
        "df2.sort_values('CRSDepTime', inplace = True)\n",
        "\n",
        "from scipy.optimize import curve_fit\n",
        "def func2(x, a, b, c):\n",
        "    return a * x**2 +  b*x + c\n",
        "df2['dep_time'] =  df2['CRSDepTime'].apply(lambda x:x.time())\n",
        "test2 = df2['DepDelay'].groupby(df2['dep_time']).apply(get_stats).unstack()\n",
        "fct = lambda x:x.hour*3600+x.minute*60+x.second\n",
        "x_val = np.array([fct(s) for s in test2.index]) \n",
        "y_val = test2['mean']\n",
        "popt, pcov = curve_fit(func2, x_val, y_val, p0 = [1, 2, 3])\n",
        "test2['fit'] = pd.Series(func2(x_val, *popt), index = test2.index)"
      ],
      "execution_count": null,
      "outputs": []
    },
    {
      "cell_type": "markdown",
      "metadata": {
        "id": "wVLzzM80DSei"
      },
      "source": [
        "# **Обучение**"
      ]
    },
    {
      "cell_type": "markdown",
      "metadata": {
        "id": "MCnG--4V6arw"
      },
      "source": [
        "Select features and split data"
      ]
    },
    {
      "cell_type": "code",
      "metadata": {
        "id": "UR8Gut3mYqst",
        "colab": {
          "base_uri": "https://localhost:8080/"
        },
        "outputId": "25bc459d-5935-45f2-8537-6509dbff414d"
      },
      "source": [
        "res = df.copy(deep=True)\n",
        "res = res.sample(1000)\n",
        "Y = res['DepDelay'].to_list()\n",
        "res = pd.concat([res, pd.get_dummies(res.UniqueCarrier)], axis=1)\n",
        "res = res.drop(['Month', 'DayofMonth', 'DayOfWeek', 'DepDelay', 'UniqueCarrier', 'Origin', 'Dest'], axis=1)\n",
        "X = res.values.tolist()\n",
        "len(X), len(X[0]), len(Y)"
      ],
      "execution_count": 84,
      "outputs": [
        {
          "output_type": "execute_result",
          "data": {
            "text/plain": [
              "(1000, 19, 1000)"
            ]
          },
          "metadata": {
            "tags": []
          },
          "execution_count": 84
        }
      ]
    },
    {
      "cell_type": "code",
      "metadata": {
        "id": "m5d9toBi6fZw",
        "outputId": "2129b642-2ea3-4014-9f5e-3f755632d99b",
        "colab": {
          "base_uri": "https://localhost:8080/",
          "height": 428
        }
      },
      "source": [
        "from optimizers.Adam import Adam\n",
        "from optimizers.AdaGrad import AdaGrad\n",
        "optim = Adam(X, Y, params={\"epochs\": 50,\n",
        "                            \"learning_rate\": 0.03,\n",
        "                            \"batch_size\": 4,\n",
        "                            'epsilon': 1e-8,\n",
        "                            'beta_1': 0.9,\n",
        "                            'beta_2': 0.999,\n",
        "                            \"regularization\": \"l1\",\n",
        "                            \"weight_decay\": 1e-6\n",
        "                            })\n",
        "print(optim.fit())\n",
        "optim = AdaGrad(X, Y, params={\"epochs\": 50,\n",
        "                            \"learning_rate\": 0.03,\n",
        "                            \"batch_size\": 4,\n",
        "                            'epsilon': 1e-8,\n",
        "                            'beta_1': 0.9,\n",
        "                            'beta_2': 0.999,\n",
        "                            \"regularization\": \"l1\",\n",
        "                            \"weight_decay\": 1e-6\n",
        "                            })\n",
        "optim.fit()"
      ],
      "execution_count": 94,
      "outputs": [
        {
          "output_type": "stream",
          "text": [
            "[1.0, 1345.0, 2279.0, 0.0, 1.0, 0.0, 0.0, 0.0, 0.0, 0.0, 0.0, 0.0, 0.0, 0.0, 0.0, 0.0, 0.0, 0.0, 0.0, 0.0]\n"
          ],
          "name": "stdout"
        },
        {
          "output_type": "error",
          "ename": "ArithmeticError",
          "evalue": "ignored",
          "traceback": [
            "\u001b[0;31m---------------------------------------------------------------------------\u001b[0m",
            "\u001b[0;31mArithmeticError\u001b[0m                           Traceback (most recent call last)",
            "\u001b[0;32m<ipython-input-94-db64a749811b>\u001b[0m in \u001b[0;36m<module>\u001b[0;34m()\u001b[0m\n\u001b[1;32m     10\u001b[0m                             \u001b[0;34m\"weight_decay\"\u001b[0m\u001b[0;34m:\u001b[0m \u001b[0;36m1e-6\u001b[0m\u001b[0;34m\u001b[0m\u001b[0;34m\u001b[0m\u001b[0m\n\u001b[1;32m     11\u001b[0m                             })\n\u001b[0;32m---> 12\u001b[0;31m \u001b[0mprint\u001b[0m\u001b[0;34m(\u001b[0m\u001b[0moptim\u001b[0m\u001b[0;34m.\u001b[0m\u001b[0mfit\u001b[0m\u001b[0;34m(\u001b[0m\u001b[0;34m)\u001b[0m\u001b[0;34m)\u001b[0m\u001b[0;34m\u001b[0m\u001b[0;34m\u001b[0m\u001b[0m\n\u001b[0m\u001b[1;32m     13\u001b[0m optim = AdaGrad(X, Y, params={\"epochs\": 50,\n\u001b[1;32m     14\u001b[0m                             \u001b[0;34m\"learning_rate\"\u001b[0m\u001b[0;34m:\u001b[0m \u001b[0;36m0.03\u001b[0m\u001b[0;34m,\u001b[0m\u001b[0;34m\u001b[0m\u001b[0;34m\u001b[0m\u001b[0m\n",
            "\u001b[0;32m/content/drive/My Drive/Mlinreg/optimizers/Optimizer.py\u001b[0m in \u001b[0;36mfit\u001b[0;34m(self)\u001b[0m\n\u001b[1;32m     29\u001b[0m                 \u001b[0;32mfor\u001b[0m \u001b[0mnum\u001b[0m\u001b[0;34m,\u001b[0m \u001b[0mexample\u001b[0m \u001b[0;32min\u001b[0m \u001b[0menumerate\u001b[0m\u001b[0;34m(\u001b[0m\u001b[0mbatch\u001b[0m\u001b[0;34m)\u001b[0m\u001b[0;34m:\u001b[0m\u001b[0;34m\u001b[0m\u001b[0;34m\u001b[0m\u001b[0m\n\u001b[1;32m     30\u001b[0m                     \u001b[0mexample\u001b[0m \u001b[0;34m=\u001b[0m \u001b[0madd_one_for_bias\u001b[0m\u001b[0;34m(\u001b[0m\u001b[0mexample\u001b[0m\u001b[0;34m)\u001b[0m\u001b[0;34m\u001b[0m\u001b[0;34m\u001b[0m\u001b[0m\n\u001b[0;32m---> 31\u001b[0;31m                     \u001b[0mprint\u001b[0m\u001b[0;34m(\u001b[0m\u001b[0mexample\u001b[0m\u001b[0;34m)\u001b[0m\u001b[0;34m\u001b[0m\u001b[0;34m\u001b[0m\u001b[0m\n\u001b[0m\u001b[1;32m     32\u001b[0m                     \u001b[0mresult\u001b[0m \u001b[0;34m=\u001b[0m \u001b[0mmatrix_multiply\u001b[0m\u001b[0;34m(\u001b[0m\u001b[0;34m[\u001b[0m\u001b[0mexample\u001b[0m\u001b[0;34m]\u001b[0m\u001b[0;34m,\u001b[0m \u001b[0mself\u001b[0m\u001b[0;34m.\u001b[0m\u001b[0mw\u001b[0m\u001b[0;34m)\u001b[0m\u001b[0;34m\u001b[0m\u001b[0;34m\u001b[0m\u001b[0m\n\u001b[1;32m     33\u001b[0m                     \u001b[0mbatch_ans\u001b[0m\u001b[0;34m.\u001b[0m\u001b[0mappend\u001b[0m\u001b[0;34m(\u001b[0m\u001b[0mresult\u001b[0m\u001b[0;34m)\u001b[0m\u001b[0;34m\u001b[0m\u001b[0;34m\u001b[0m\u001b[0m\n",
            "\u001b[0;32m/content/drive/My Drive/Mlinreg/matrix.py\u001b[0m in \u001b[0;36mmatrix_multiply\u001b[0;34m(A, B)\u001b[0m\n\u001b[1;32m    127\u001b[0m     \u001b[0mcolsB\u001b[0m \u001b[0;34m=\u001b[0m \u001b[0mlen\u001b[0m\u001b[0;34m(\u001b[0m\u001b[0mB\u001b[0m\u001b[0;34m[\u001b[0m\u001b[0;36m0\u001b[0m\u001b[0;34m]\u001b[0m\u001b[0;34m)\u001b[0m\u001b[0;34m\u001b[0m\u001b[0;34m\u001b[0m\u001b[0m\n\u001b[1;32m    128\u001b[0m \u001b[0;34m\u001b[0m\u001b[0m\n\u001b[0;32m--> 129\u001b[0;31m     \u001b[0;32mif\u001b[0m \u001b[0mcolsA\u001b[0m \u001b[0;34m!=\u001b[0m \u001b[0mrowsB\u001b[0m\u001b[0;34m:\u001b[0m\u001b[0;34m\u001b[0m\u001b[0;34m\u001b[0m\u001b[0m\n\u001b[0m\u001b[1;32m    130\u001b[0m         \u001b[0;32mraise\u001b[0m \u001b[0mArithmeticError\u001b[0m\u001b[0;34m(\u001b[0m\u001b[0;34m'Number of A columns must equal number of B rows.'\u001b[0m\u001b[0;34m)\u001b[0m\u001b[0;34m\u001b[0m\u001b[0;34m\u001b[0m\u001b[0m\n\u001b[1;32m    131\u001b[0m \u001b[0;34m\u001b[0m\u001b[0m\n",
            "\u001b[0;31mArithmeticError\u001b[0m: Number of A columns must equal number of B rows."
          ]
        }
      ]
    },
    {
      "cell_type": "code",
      "metadata": {
        "id": "PXLYQ_yhYtFe"
      },
      "source": [
        "from sklearn.preprocessing import OneHotEncoder"
      ],
      "execution_count": null,
      "outputs": []
    },
    {
      "cell_type": "code",
      "metadata": {
        "id": "WiZjG3kS_3x1"
      },
      "source": [
        "RANDOM_STATE = 0\n",
        "TRAIN_NUM_SAMPLES = 1000\n",
        "TEST_NUM_SAMPLES = 200"
      ],
      "execution_count": null,
      "outputs": []
    },
    {
      "cell_type": "code",
      "metadata": {
        "id": "veunyL-4C-89"
      },
      "source": [
        "df = pd.read_csv('data/raw.csv')"
      ],
      "execution_count": null,
      "outputs": []
    },
    {
      "cell_type": "code",
      "metadata": {
        "id": "YWX37mgd6b16",
        "colab": {
          "base_uri": "https://localhost:8080/"
        },
        "outputId": "6c8817cd-0a89-4c8d-e16d-5ec632b9e149"
      },
      "source": [
        "target = 'DepDelay'\n",
        "features = ['CRSDepTime', 'Distance', *carriers_list]\n",
        "features"
      ],
      "execution_count": null,
      "outputs": [
        {
          "output_type": "execute_result",
          "data": {
            "text/plain": [
              "['CRSDepTime',\n",
              " 'Distance',\n",
              " '9E',\n",
              " 'AA',\n",
              " 'AS',\n",
              " 'B6',\n",
              " 'DL',\n",
              " 'EV',\n",
              " 'F9',\n",
              " 'G4',\n",
              " 'HA',\n",
              " 'MQ',\n",
              " 'NK',\n",
              " 'OH',\n",
              " 'OO',\n",
              " 'UA',\n",
              " 'WN',\n",
              " 'YV',\n",
              " 'YX']"
            ]
          },
          "metadata": {
            "tags": []
          },
          "execution_count": 300
        }
      ]
    },
    {
      "cell_type": "code",
      "metadata": {
        "id": "2htLA07p_xR7"
      },
      "source": [
        "train = res.sample(TRAIN_NUM_SAMPLES, random_state=RANDOM_STATE)\n",
        "test = res[~res.index.isin(train.index)].sample(TEST_NUM_SAMPLES, random_state=RANDOM_STATE)"
      ],
      "execution_count": null,
      "outputs": []
    },
    {
      "cell_type": "code",
      "metadata": {
        "id": "TEK32FzZAPVY"
      },
      "source": [
        "train.to_csv('data/train.csv', index=False)\n",
        "test.to_csv('data/test.csv', index=False)"
      ],
      "execution_count": null,
      "outputs": []
    },
    {
      "cell_type": "markdown",
      "metadata": {
        "id": "vFeYY6xdA6tP"
      },
      "source": [
        "Initialize model"
      ]
    },
    {
      "cell_type": "code",
      "metadata": {
        "id": "S53aG-u3FOGX"
      },
      "source": [
        "MODEL_KWARGS = {\n",
        "    'loss' : 'squared_loss',\n",
        "    'penalty' : 'l1',\n",
        "    'alpha' : 0.0000001\n",
        "}"
      ],
      "execution_count": null,
      "outputs": []
    },
    {
      "cell_type": "code",
      "metadata": {
        "id": "5g7UMa5HAdXJ"
      },
      "source": [
        "from sklearn.linear_model import SGDRegressor\n",
        "from sklearn.preprocessing import MinMaxScaler"
      ],
      "execution_count": null,
      "outputs": []
    },
    {
      "cell_type": "code",
      "metadata": {
        "id": "CNFotDPHBC0q"
      },
      "source": [
        "scaler = MinMaxScaler()\n",
        "reg = SGDRegressor(**MODEL_KWARGS)"
      ],
      "execution_count": null,
      "outputs": []
    },
    {
      "cell_type": "markdown",
      "metadata": {
        "id": "dAPxu5K6IWoW"
      },
      "source": [
        "Initialize metrics"
      ]
    },
    {
      "cell_type": "code",
      "metadata": {
        "id": "Imp1Nz6nIV7u"
      },
      "source": [
        "from sklearn.metrics import r2_score, mean_squared_error"
      ],
      "execution_count": null,
      "outputs": []
    },
    {
      "cell_type": "markdown",
      "metadata": {
        "id": "14OG11gJEV2e"
      },
      "source": [
        "Cross Validation"
      ]
    },
    {
      "cell_type": "code",
      "metadata": {
        "id": "zURrSxQgEXZ4"
      },
      "source": [
        "#train = pd.read_csv('data/train.csv')\n",
        "x_train = train[features].to_numpy()\n",
        "y_train = train[target].to_numpy()\n",
        "x_train = scaler.fit_transform(x_train)"
      ],
      "execution_count": null,
      "outputs": []
    },
    {
      "cell_type": "code",
      "metadata": {
        "id": "wvPty03yFFqo"
      },
      "source": [
        "from sklearn.model_selection import KFold"
      ],
      "execution_count": null,
      "outputs": []
    },
    {
      "cell_type": "code",
      "metadata": {
        "id": "2i1Vp1wrHAQ5"
      },
      "source": [
        "k_fold = KFold(5)\n",
        "\n",
        "results = pd.DataFrame(columns=['alpha', 'MSE', 'R2'])\n",
        "for _, (train_idx, val_idx) in enumerate(k_fold.split(x_train, y_train)):\n",
        "    reg.fit(x_train[train_idx], y_train[train_idx])\n",
        "    y_pred = reg.predict(x_train[val_idx])\n",
        "    r2 = r2_score(y_true=y_train[val_idx], y_pred=y_pred)\n",
        "    mse = mean_squared_error(y_true=y_train[val_idx], y_pred=y_pred)\n",
        "    results = results.append({'alpha' : MODEL_KWARGS['alpha'], 'MSE' : mse, 'R2' : r2}, ignore_index=True)"
      ],
      "execution_count": null,
      "outputs": []
    },
    {
      "cell_type": "code",
      "metadata": {
        "id": "JnruCu6zKTRA",
        "colab": {
          "base_uri": "https://localhost:8080/",
          "height": 206
        },
        "outputId": "ba47eed8-753f-4dad-cbab-049b91be82a4"
      },
      "source": [
        "results"
      ],
      "execution_count": null,
      "outputs": [
        {
          "output_type": "execute_result",
          "data": {
            "text/html": [
              "<div>\n",
              "<style scoped>\n",
              "    .dataframe tbody tr th:only-of-type {\n",
              "        vertical-align: middle;\n",
              "    }\n",
              "\n",
              "    .dataframe tbody tr th {\n",
              "        vertical-align: top;\n",
              "    }\n",
              "\n",
              "    .dataframe thead th {\n",
              "        text-align: right;\n",
              "    }\n",
              "</style>\n",
              "<table border=\"1\" class=\"dataframe\">\n",
              "  <thead>\n",
              "    <tr style=\"text-align: right;\">\n",
              "      <th></th>\n",
              "      <th>alpha</th>\n",
              "      <th>MSE</th>\n",
              "      <th>R2</th>\n",
              "    </tr>\n",
              "  </thead>\n",
              "  <tbody>\n",
              "    <tr>\n",
              "      <th>0</th>\n",
              "      <td>1.000000e-07</td>\n",
              "      <td>4533.317430</td>\n",
              "      <td>-0.020298</td>\n",
              "    </tr>\n",
              "    <tr>\n",
              "      <th>1</th>\n",
              "      <td>1.000000e-07</td>\n",
              "      <td>681.849526</td>\n",
              "      <td>-0.115264</td>\n",
              "    </tr>\n",
              "    <tr>\n",
              "      <th>2</th>\n",
              "      <td>1.000000e-07</td>\n",
              "      <td>1270.064461</td>\n",
              "      <td>-0.015248</td>\n",
              "    </tr>\n",
              "    <tr>\n",
              "      <th>3</th>\n",
              "      <td>1.000000e-07</td>\n",
              "      <td>433.299264</td>\n",
              "      <td>-0.137165</td>\n",
              "    </tr>\n",
              "    <tr>\n",
              "      <th>4</th>\n",
              "      <td>1.000000e-07</td>\n",
              "      <td>1747.068536</td>\n",
              "      <td>-0.024986</td>\n",
              "    </tr>\n",
              "  </tbody>\n",
              "</table>\n",
              "</div>"
            ],
            "text/plain": [
              "          alpha          MSE        R2\n",
              "0  1.000000e-07  4533.317430 -0.020298\n",
              "1  1.000000e-07   681.849526 -0.115264\n",
              "2  1.000000e-07  1270.064461 -0.015248\n",
              "3  1.000000e-07   433.299264 -0.137165\n",
              "4  1.000000e-07  1747.068536 -0.024986"
            ]
          },
          "metadata": {
            "tags": []
          },
          "execution_count": 309
        }
      ]
    },
    {
      "cell_type": "code",
      "metadata": {
        "id": "uThgEx-tKgHL",
        "colab": {
          "base_uri": "https://localhost:8080/",
          "height": 300
        },
        "outputId": "8fd3a513-4deb-4846-9628-d7293190d7da"
      },
      "source": [
        "results[['MSE', 'R2']].describe()"
      ],
      "execution_count": null,
      "outputs": [
        {
          "output_type": "execute_result",
          "data": {
            "text/html": [
              "<div>\n",
              "<style scoped>\n",
              "    .dataframe tbody tr th:only-of-type {\n",
              "        vertical-align: middle;\n",
              "    }\n",
              "\n",
              "    .dataframe tbody tr th {\n",
              "        vertical-align: top;\n",
              "    }\n",
              "\n",
              "    .dataframe thead th {\n",
              "        text-align: right;\n",
              "    }\n",
              "</style>\n",
              "<table border=\"1\" class=\"dataframe\">\n",
              "  <thead>\n",
              "    <tr style=\"text-align: right;\">\n",
              "      <th></th>\n",
              "      <th>MSE</th>\n",
              "      <th>R2</th>\n",
              "    </tr>\n",
              "  </thead>\n",
              "  <tbody>\n",
              "    <tr>\n",
              "      <th>count</th>\n",
              "      <td>5.000000</td>\n",
              "      <td>5.000000</td>\n",
              "    </tr>\n",
              "    <tr>\n",
              "      <th>mean</th>\n",
              "      <td>1733.119843</td>\n",
              "      <td>-0.062592</td>\n",
              "    </tr>\n",
              "    <tr>\n",
              "      <th>std</th>\n",
              "      <td>1646.999104</td>\n",
              "      <td>0.058694</td>\n",
              "    </tr>\n",
              "    <tr>\n",
              "      <th>min</th>\n",
              "      <td>433.299264</td>\n",
              "      <td>-0.137165</td>\n",
              "    </tr>\n",
              "    <tr>\n",
              "      <th>25%</th>\n",
              "      <td>681.849526</td>\n",
              "      <td>-0.115264</td>\n",
              "    </tr>\n",
              "    <tr>\n",
              "      <th>50%</th>\n",
              "      <td>1270.064461</td>\n",
              "      <td>-0.024986</td>\n",
              "    </tr>\n",
              "    <tr>\n",
              "      <th>75%</th>\n",
              "      <td>1747.068536</td>\n",
              "      <td>-0.020298</td>\n",
              "    </tr>\n",
              "    <tr>\n",
              "      <th>max</th>\n",
              "      <td>4533.317430</td>\n",
              "      <td>-0.015248</td>\n",
              "    </tr>\n",
              "  </tbody>\n",
              "</table>\n",
              "</div>"
            ],
            "text/plain": [
              "               MSE        R2\n",
              "count     5.000000  5.000000\n",
              "mean   1733.119843 -0.062592\n",
              "std    1646.999104  0.058694\n",
              "min     433.299264 -0.137165\n",
              "25%     681.849526 -0.115264\n",
              "50%    1270.064461 -0.024986\n",
              "75%    1747.068536 -0.020298\n",
              "max    4533.317430 -0.015248"
            ]
          },
          "metadata": {
            "tags": []
          },
          "execution_count": 310
        }
      ]
    },
    {
      "cell_type": "markdown",
      "metadata": {
        "id": "khiCiv30MVtq"
      },
      "source": [
        "Train"
      ]
    },
    {
      "cell_type": "code",
      "metadata": {
        "id": "ch0h5qraKjXX",
        "colab": {
          "base_uri": "https://localhost:8080/"
        },
        "outputId": "84d105f2-d08f-4890-d8ba-cc355f7026f7"
      },
      "source": [
        "reg.fit(x_train, y_train)"
      ],
      "execution_count": null,
      "outputs": [
        {
          "output_type": "execute_result",
          "data": {
            "text/plain": [
              "SGDRegressor(alpha=1e-07, average=False, early_stopping=False, epsilon=0.1,\n",
              "             eta0=0.01, fit_intercept=True, l1_ratio=0.15,\n",
              "             learning_rate='invscaling', loss='squared_loss', max_iter=1000,\n",
              "             n_iter_no_change=5, penalty='l1', power_t=0.25, random_state=None,\n",
              "             shuffle=True, tol=0.001, validation_fraction=0.1, verbose=0,\n",
              "             warm_start=False)"
            ]
          },
          "metadata": {
            "tags": []
          },
          "execution_count": 311
        }
      ]
    },
    {
      "cell_type": "markdown",
      "metadata": {
        "id": "2rdC1bTENZgH"
      },
      "source": [
        "Test"
      ]
    },
    {
      "cell_type": "code",
      "metadata": {
        "id": "RoJXMrAZNYIN"
      },
      "source": [
        "test = pd.read_csv('data/test.csv')\n",
        "\n",
        "x_test = test[features].to_numpy()\n",
        "y_test = test[target].to_numpy()\n",
        "\n",
        "x_test = scaler.transform(x_test)"
      ],
      "execution_count": null,
      "outputs": []
    },
    {
      "cell_type": "code",
      "metadata": {
        "id": "WIjH45w4Nqe4"
      },
      "source": [
        "y_pred = reg.predict(x_test)\n",
        "\n",
        "mse = mean_squared_error(y_true=y_test, y_pred=y_pred)\n",
        "r2 = r2_score(y_true=y_test, y_pred=y_pred)"
      ],
      "execution_count": null,
      "outputs": []
    },
    {
      "cell_type": "code",
      "metadata": {
        "id": "zooWI0b9OCiZ",
        "colab": {
          "base_uri": "https://localhost:8080/"
        },
        "outputId": "5fd3f8c2-1060-4a37-fa81-74dd63445162"
      },
      "source": [
        "print(f'MSE: {mse},\\nR2: {r2}.')"
      ],
      "execution_count": null,
      "outputs": [
        {
          "output_type": "stream",
          "text": [
            "MSE: 384.31994137203833,\n",
            "R2: -0.0329559589893369.\n"
          ],
          "name": "stdout"
        }
      ]
    },
    {
      "cell_type": "code",
      "metadata": {
        "id": "defPV6HywETo"
      },
      "source": [
        ""
      ],
      "execution_count": null,
      "outputs": []
    }
  ]
}