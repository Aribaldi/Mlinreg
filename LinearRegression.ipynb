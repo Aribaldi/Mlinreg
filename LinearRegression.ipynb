{
  "nbformat": 4,
  "nbformat_minor": 0,
  "metadata": {
    "colab": {
      "name": "LinearRegression.ipynb",
      "provenance": [],
      "include_colab_link": true
    },
    "kernelspec": {
      "name": "python3",
      "display_name": "Python 3"
    }
  },
  "cells": [
    {
      "cell_type": "markdown",
      "metadata": {
        "id": "view-in-github",
        "colab_type": "text"
      },
      "source": [
        "<a href=\"https://colab.research.google.com/github/Aribaldi/Mlinreg/blob/master/LinearRegression.ipynb\" target=\"_parent\"><img src=\"https://colab.research.google.com/assets/colab-badge.svg\" alt=\"Open In Colab\"/></a>"
      ]
    },
    {
      "cell_type": "markdown",
      "metadata": {
        "id": "fZ7_NpZnOtP2"
      },
      "source": [
        "Clone repository"
      ]
    },
    {
      "cell_type": "code",
      "metadata": {
        "id": "X7jWAFtcOqzc"
      },
      "source": [
        "!git clone https://github.com/Aribaldi/Mlinreg\n",
        "%cd Mlinreg"
      ],
      "execution_count": null,
      "outputs": []
    },
    {
      "cell_type": "markdown",
      "metadata": {
        "id": "mtReuNr44XPx"
      },
      "source": [
        "Download\n"
      ]
    },
    {
      "cell_type": "code",
      "metadata": {
        "id": "uyJnB1VMvH0v"
      },
      "source": [
        "START_YEAR = 2020\n",
        "START_MONTH = 1\n",
        "END_YEAR = 2020\n",
        "END_MONTH = 3"
      ],
      "execution_count": null,
      "outputs": []
    },
    {
      "cell_type": "code",
      "metadata": {
        "id": "PrHLERq6wCVp"
      },
      "source": [
        "import os"
      ],
      "execution_count": null,
      "outputs": []
    },
    {
      "cell_type": "code",
      "metadata": {
        "id": "SYLtZCw8z_7n"
      },
      "source": [
        "if not os.path.exists('data/'):\n",
        "    os.makedirs('data/')\n",
        "\n",
        "!sh utils/downloader.sh {START_MONTH} {START_YEAR} {END_MONTH} {END_YEAR}"
      ],
      "execution_count": null,
      "outputs": []
    },
    {
      "cell_type": "markdown",
      "metadata": {
        "id": "URx2frycq0ym"
      },
      "source": [
        "Preprocess \n"
      ]
    },
    {
      "cell_type": "code",
      "metadata": {
        "id": "tNUBT9YJrdGs"
      },
      "source": [
        "columns = {\n",
        "    'YEAR' : 'Year', \n",
        "    'MONTH' : 'Month', \n",
        "    'DAY_OF_MONTH' : 'DayofMonth', \n",
        "    'DAY_OF_WEEK' : 'DayOfWeek', \n",
        "    'DEP_TIME' : 'DepTime', \n",
        "    'CRS_DEP_TIME' : 'CRSDepTime',\n",
        "    'ARR_TIME' : 'ArrTime',\n",
        "    'CRS_ARR_TIME' : 'CRSArrTime',\n",
        "    'OP_UNIQUE_CARRIER' : 'UniqueCarrier',\n",
        "    'OP_CARRIER_FL_NUM' : 'FlightNum', \n",
        "    'TAIL_NUM' : 'TailNum', \n",
        "    'ACTUAL_ELAPSED_TIME' : 'ActualElapsedTime', \n",
        "    'CRS_ELAPSED_TIME' : 'CRSElapsedTime', \n",
        "    'AIR_TIME' : 'AirTime',\n",
        "    'ARR_DELAY' : 'ArrDelay',\n",
        "    'DEP_DELAY' : 'DepDelay',\n",
        "    'ORIGIN' : 'Origin', \n",
        "    'DEST' : 'Dest', \n",
        "    'DISTANCE' : 'Distance',\n",
        "    'TAXI_IN' : 'TaxiIn',\n",
        "    'TAXI_OUT' : 'TaxiOut', \n",
        "    'CANCELLED' : 'Cancelled', \n",
        "    'CANCELLATION_CODE' : 'CancellationCode', \n",
        "    'DIVERTED' : 'Diverted',\n",
        "    'CARRIER_DELAY' : 'CarrierDelay', \n",
        "    'WEATHER_DELAY' : 'WeatherDelay', \n",
        "    'NAS_DELAY' : 'NASDelay', \n",
        "    'SECURITY_DELAY' : 'SecurityDelay',\n",
        "    'LATE_AIRCRAFT_DELAY' : 'LateAircraftDelay'\n",
        "}"
      ],
      "execution_count": null,
      "outputs": []
    },
    {
      "cell_type": "code",
      "metadata": {
        "id": "3iCL9ZZx2jFK"
      },
      "source": [
        "import pandas as pd\n",
        "import glob"
      ],
      "execution_count": null,
      "outputs": []
    },
    {
      "cell_type": "code",
      "metadata": {
        "id": "3nEf1yc-pmEd"
      },
      "source": [
        "extension = 'csv'\n",
        "os.chdir('data')\n",
        "all_filenames = [i for i in glob.glob('*.{}'.format(extension))]\n",
        "combined_csv = pd.concat([pd.read_csv(f) for f in all_filenames])\n",
        "combined_csv.rename(columns=columns, inplace=True)\n",
        "combined_csv = combined_csv[list(columns.values())]\n",
        "combined_csv.to_csv('raw.csv', index=False, encoding='utf-8-sig')\n",
        "os.chdir('../')"
      ],
      "execution_count": null,
      "outputs": []
    },
    {
      "cell_type": "code",
      "metadata": {
        "id": "GjGByVdWqV4j"
      },
      "source": [
        "df = pd.read_csv('data/raw.csv')"
      ],
      "execution_count": null,
      "outputs": []
    },
    {
      "cell_type": "code",
      "metadata": {
        "id": "Z-gp12Yrvyz8"
      },
      "source": [
        "df"
      ],
      "execution_count": null,
      "outputs": []
    },
    {
      "cell_type": "markdown",
      "metadata": {
        "id": "oD64F8Tb6YSp"
      },
      "source": [
        "EDA"
      ]
    },
    {
      "cell_type": "code",
      "metadata": {
        "id": "0ok9_eh_6Y6q"
      },
      "source": [
        "#TODO"
      ],
      "execution_count": null,
      "outputs": []
    },
    {
      "cell_type": "markdown",
      "metadata": {
        "id": "MCnG--4V6arw"
      },
      "source": [
        "Select features and split data"
      ]
    },
    {
      "cell_type": "code",
      "metadata": {
        "id": "WiZjG3kS_3x1"
      },
      "source": [
        "RANDOM_STATE = 0\n",
        "TRAIN_NUM_SAMPLES = 1000\n",
        "TEST_NUM_SAMPLES = 200"
      ],
      "execution_count": null,
      "outputs": []
    },
    {
      "cell_type": "code",
      "metadata": {
        "id": "veunyL-4C-89"
      },
      "source": [
        "df = pd.read_csv('data/raw.csv')"
      ],
      "execution_count": null,
      "outputs": []
    },
    {
      "cell_type": "code",
      "metadata": {
        "id": "YWX37mgd6b16"
      },
      "source": [
        "features = ['Month', 'DayOfWeek', 'Distance']\n",
        "target = 'DepDelay'"
      ],
      "execution_count": null,
      "outputs": []
    },
    {
      "cell_type": "code",
      "metadata": {
        "id": "2htLA07p_xR7"
      },
      "source": [
        "train = df[[*features, target]].dropna().sample(TRAIN_NUM_SAMPLES, random_state=RANDOM_STATE)\n",
        "test = df[~df.index.isin(train.index)][[*features, target]].dropna().sample(TEST_NUM_SAMPLES, random_state=RANDOM_STATE)"
      ],
      "execution_count": null,
      "outputs": []
    },
    {
      "cell_type": "code",
      "metadata": {
        "id": "YQmAdEErAOtZ"
      },
      "source": [
        "test"
      ],
      "execution_count": null,
      "outputs": []
    },
    {
      "cell_type": "code",
      "metadata": {
        "id": "TEK32FzZAPVY"
      },
      "source": [
        "train.to_csv('data/train.csv', index=False)\n",
        "test.to_csv('data/test.csv', index=False)"
      ],
      "execution_count": null,
      "outputs": []
    },
    {
      "cell_type": "markdown",
      "metadata": {
        "id": "vFeYY6xdA6tP"
      },
      "source": [
        "Initialize model"
      ]
    },
    {
      "cell_type": "code",
      "metadata": {
        "id": "S53aG-u3FOGX"
      },
      "source": [
        "MODEL_KWARGS = {\n",
        "    'loss' : 'squared_loss',\n",
        "    'penalty' : 'l2',\n",
        "    'alpha' : 0.0001\n",
        "}"
      ],
      "execution_count": null,
      "outputs": []
    },
    {
      "cell_type": "code",
      "metadata": {
        "id": "5g7UMa5HAdXJ"
      },
      "source": [
        "from sklearn.linear_model import SGDRegressor\n",
        "from sklearn.preprocessing import StandardScaler"
      ],
      "execution_count": null,
      "outputs": []
    },
    {
      "cell_type": "code",
      "metadata": {
        "id": "CNFotDPHBC0q"
      },
      "source": [
        "scaler = StandardScaler()\n",
        "reg = SGDRegressor(**MODEL_KWARGS)"
      ],
      "execution_count": null,
      "outputs": []
    },
    {
      "cell_type": "markdown",
      "metadata": {
        "id": "dAPxu5K6IWoW"
      },
      "source": [
        "Initialize metrics"
      ]
    },
    {
      "cell_type": "code",
      "metadata": {
        "id": "Imp1Nz6nIV7u"
      },
      "source": [
        "from sklearn.metrics import r2_score, mean_squared_error"
      ],
      "execution_count": null,
      "outputs": []
    },
    {
      "cell_type": "markdown",
      "metadata": {
        "id": "14OG11gJEV2e"
      },
      "source": [
        "Cross Validation"
      ]
    },
    {
      "cell_type": "code",
      "metadata": {
        "id": "zURrSxQgEXZ4"
      },
      "source": [
        "train = pd.read_csv('data/train.csv')\n",
        "\n",
        "x_train = train[features].to_numpy()\n",
        "y_train = train[target].to_numpy()\n",
        "\n",
        "x_train = scaler.fit_transform(x_train)"
      ],
      "execution_count": null,
      "outputs": []
    },
    {
      "cell_type": "code",
      "metadata": {
        "id": "wvPty03yFFqo"
      },
      "source": [
        "from sklearn.model_selection import KFold"
      ],
      "execution_count": null,
      "outputs": []
    },
    {
      "cell_type": "code",
      "metadata": {
        "id": "2i1Vp1wrHAQ5"
      },
      "source": [
        "k_fold = KFold(5)\n",
        "\n",
        "results = pd.DataFrame(columns=['alpha', 'MSE', 'R2'])\n",
        "for _, (train_idx, val_idx) in enumerate(k_fold.split(x_train, y_train)):\n",
        "    reg.fit(x_train[train_idx], y_train[train_idx])\n",
        "    y_pred = reg.predict(x_train[val_idx])\n",
        "    r2 = r2_score(y_true=y_train[val_idx], y_pred=y_pred)\n",
        "    mse = mean_squared_error(y_true=y_train[val_idx], y_pred=y_pred)\n",
        "    results = results.append({'alpha' : MODEL_KWARGS['alpha'], 'MSE' : mse, 'R2' : r2}, ignore_index=True)"
      ],
      "execution_count": null,
      "outputs": []
    },
    {
      "cell_type": "code",
      "metadata": {
        "id": "JnruCu6zKTRA"
      },
      "source": [
        "results"
      ],
      "execution_count": null,
      "outputs": []
    },
    {
      "cell_type": "code",
      "metadata": {
        "id": "uThgEx-tKgHL"
      },
      "source": [
        "results[['MSE', 'R2']].describe()"
      ],
      "execution_count": null,
      "outputs": []
    },
    {
      "cell_type": "markdown",
      "metadata": {
        "id": "khiCiv30MVtq"
      },
      "source": [
        "Train"
      ]
    },
    {
      "cell_type": "code",
      "metadata": {
        "id": "ch0h5qraKjXX"
      },
      "source": [
        "reg.fit(x_train, y_train)"
      ],
      "execution_count": null,
      "outputs": []
    },
    {
      "cell_type": "markdown",
      "metadata": {
        "id": "2rdC1bTENZgH"
      },
      "source": [
        "Test"
      ]
    },
    {
      "cell_type": "code",
      "metadata": {
        "id": "RoJXMrAZNYIN"
      },
      "source": [
        "test = pd.read_csv('data/test.csv')\n",
        "\n",
        "x_test = test[features].to_numpy()\n",
        "y_test = test[target].to_numpy()\n",
        "\n",
        "x_test = scaler.transform(x_test)"
      ],
      "execution_count": null,
      "outputs": []
    },
    {
      "cell_type": "code",
      "metadata": {
        "id": "WIjH45w4Nqe4"
      },
      "source": [
        "y_pred = reg.predict(x_test)\n",
        "\n",
        "mse = mean_squared_error(y_true=y_test, y_pred=y_pred)\n",
        "r2 = r2_score(y_true=y_test, y_pred=y_pred)"
      ],
      "execution_count": null,
      "outputs": []
    },
    {
      "cell_type": "code",
      "metadata": {
        "id": "zooWI0b9OCiZ"
      },
      "source": [
        "print(f'MSE: {mse},\\nR2: {r2}.')"
      ],
      "execution_count": null,
      "outputs": []
    },
    {
      "cell_type": "code",
      "metadata": {
        "id": "nr-cc8mIOM0f"
      },
      "source": [
        ""
      ],
      "execution_count": null,
      "outputs": []
    }
  ]
}