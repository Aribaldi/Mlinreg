{
  "nbformat": 4,
  "nbformat_minor": 0,
  "metadata": {
    "colab": {
      "name": "LinearRegression.ipynb",
      "provenance": [],
      "include_colab_link": true
    },
    "kernelspec": {
      "name": "python3",
      "display_name": "Python 3"
    }
  },
  "cells": [
    {
      "cell_type": "markdown",
      "metadata": {
        "id": "view-in-github",
        "colab_type": "text"
      },
      "source": [
        "<a href=\"https://colab.research.google.com/github/Aribaldi/Mlinreg/blob/master/LinearRegression.ipynb\" target=\"_parent\"><img src=\"https://colab.research.google.com/assets/colab-badge.svg\" alt=\"Open In Colab\"/></a>"
      ]
    },
    {
      "cell_type": "markdown",
      "metadata": {
        "id": "mtReuNr44XPx"
      },
      "source": [
        "Download\n"
      ]
    },
    {
      "cell_type": "code",
      "metadata": {
        "id": "uyJnB1VMvH0v"
      },
      "source": [
        "START_YEAR = 2020\n",
        "START_MONTH = 1\n",
        "END_YEAR = 2020\n",
        "END_MONTH = 3"
      ],
      "execution_count": null,
      "outputs": []
    },
    {
      "cell_type": "code",
      "metadata": {
        "id": "sC4AHyPHq805",
        "outputId": "faaddd21-4962-46c0-b46f-e22b1e8ab8c2",
        "colab": {
          "base_uri": "https://localhost:8080/"
        }
      },
      "source": [
        "!wget https://gist.githubusercontent.com/dankiy/9a6587f4b6e69195515ae376df7dce4e/raw/609ca582dc34e131cfa27fb26c4eaa2b20bf5fd7/downloader.sh"
      ],
      "execution_count": null,
      "outputs": [
        {
          "output_type": "stream",
          "text": [
            "--2020-11-09 13:41:05--  https://gist.githubusercontent.com/dankiy/9a6587f4b6e69195515ae376df7dce4e/raw/609ca582dc34e131cfa27fb26c4eaa2b20bf5fd7/downloader.sh\n",
            "Resolving gist.githubusercontent.com (gist.githubusercontent.com)... 151.101.0.133, 151.101.64.133, 151.101.128.133, ...\n",
            "Connecting to gist.githubusercontent.com (gist.githubusercontent.com)|151.101.0.133|:443... connected.\n",
            "HTTP request sent, awaiting response... 200 OK\n",
            "Length: 6637 (6.5K) [text/plain]\n",
            "Saving to: ‘downloader.sh’\n",
            "\n",
            "downloader.sh       100%[===================>]   6.48K  --.-KB/s    in 0s      \n",
            "\n",
            "2020-11-09 13:41:06 (65.2 MB/s) - ‘downloader.sh’ saved [6637/6637]\n",
            "\n"
          ],
          "name": "stdout"
        }
      ]
    },
    {
      "cell_type": "code",
      "metadata": {
        "id": "PrHLERq6wCVp"
      },
      "source": [
        "import os"
      ],
      "execution_count": null,
      "outputs": []
    },
    {
      "cell_type": "code",
      "metadata": {
        "id": "SYLtZCw8z_7n",
        "outputId": "d6ae897b-9ce1-4c11-8bc5-59eb6fd84487",
        "colab": {
          "base_uri": "https://localhost:8080/"
        }
      },
      "source": [
        "if not os.path.exists('/content/data/'):\n",
        "    os.makedirs('/content/data/')\n",
        "\n",
        "!sh downloader.sh {START_MONTH} {START_YEAR} {END_MONTH} {END_YEAR}"
      ],
      "execution_count": null,
      "outputs": [
        {
          "output_type": "stream",
          "text": [
            "-----Downloading data for 2020-----\n",
            "-----month 1-----\n",
            "  % Total    % Received % Xferd  Average Speed   Time    Time     Time  Current\n",
            "                                 Dload  Upload   Total   Spent    Left  Speed\n",
            "100  5591  100   200  100  5391      9    261  0:00:22  0:00:20  0:00:02    53\n",
            "Received <head><title>Object moved</title></head>\n",
            "<body><h1>Object Moved</h1>This object may be found <a HREF=\"https://transtats.bts.gov/ftproot/TranStatsData/76459750_T_ONTIME_REPORTING.zip\">here</a>.</body>\n",
            "https://transtats.bts.gov/ftproot/TranStatsData/76459750_T_ONTIME_REPORTING.zip\n",
            "  % Total    % Received % Xferd  Average Speed   Time    Time     Time  Current\n",
            "                                 Dload  Upload   Total   Spent    Left  Speed\n",
            "100 16.6M  100 16.6M    0     0   589k      0  0:00:29  0:00:29 --:--:--  656k\n",
            "-----2020 1 download complete-----\n",
            "-----Unzipping-----\n",
            "Archive:  20201.zip\n",
            "  inflating: 76459750_T_ONTIME_REPORTING.csv  \n",
            "-----Removing old .zip file-----\n",
            "-----done-----\n",
            "-----Cleaning data-----\n",
            "-----done-----\n",
            "-----Data checking-----\n",
            "header is ...\n",
            "YEAR,MONTH,DAY_OF_MONTH,DAY_OF_WEEK,OP_UNIQUE_CARRIER,TAIL_NUM,OP_CARRIER_FL_NUM,ORIGIN,DEST,CRS_DEP_TIME,DEP_TIME,DEP_DELAY,TAXI_OUT,TAXI_IN,CRS_ARR_TIME,ARR_TIME,ARR_DELAY,CANCELLED,CANCELLATION_CODE,DIVERTED,CRS_ELAPSED_TIME,ACTUAL_ELAPSED_TIME,AIR_TIME,DISTANCE,CARRIER_DELAY,WEATHER_DELAY,NAS_DELAY,SECURITY_DELAY,LATE_AIRCRAFT_DELAY\n",
            "2020,1,1,3,WN,N951WN,5888,ONT,SFO,1810,1851,41.00,44.00,4.00,1945,2053,68.00,0.00,,0.00,95.00,122.00,74.00,363.00,8.00,0.00,27.00,0.00,33.00\n",
            "2020,1,1,3,WN,N467WN,6276,ONT,SFO,1150,1146,-4.00,13.00,8.00,1320,1318,-2.00,0.00,,0.00,90.00,92.00,71.00,363.00,,,,,\n",
            "2020,1,1,3,WN,N7885A,4598,ONT,SJC,2020,2016,-4.00,8.00,3.00,2130,2124,-6.00,0.00,,0.00,70.00,68.00,57.00,333.00,,,,,\n",
            "2020,1,1,3,WN,N551WN,4761,ONT,SJC,1340,1350,10.00,10.00,2.00,1455,1505,10.00,0.00,,0.00,75.00,75.00,63.00,333.00,,,,,\n",
            "2020,1,1,3,WN,N968WN,5162,ONT,SJC,0915,0916,1.00,6.00,4.00,1035,1023,-12.00,0.00,,0.00,80.00,67.00,57.00,333.00,,,,,\n",
            "2020,1,1,3,WN,N7856A,5684,ONT,SJC,0600,0602,2.00,17.00,6.00,0715,0722,7.00,0.00,,0.00,75.00,80.00,57.00,333.00,,,,,\n",
            "2020,1,1,3,WN,N7735A,6152,ONT,SJC,1620,1624,4.00,6.00,4.00,1740,1736,-4.00,0.00,,0.00,80.00,72.00,62.00,333.00,,,,,\n",
            "2020,1,1,3,WN,N405WN,1679,ONT,SMF,1505,1604,59.00,5.00,2.00,1630,1717,47.00,0.00,,0.00,85.00,73.00,66.00,390.00,0.00,0.00,0.00,7.00,40.00\n",
            "2020,1,1,3,WN,N489WN,3479,ONT,SMF,1230,1225,-5.00,8.00,19.00,1355,1405,10.00,0.00,,0.00,85.00,100.00,73.00,390.00,,,,,\n",
            "should be 29 fields, there are: \n",
            "29\n",
            "The number of observations are...\n",
            "607347 20201.csv\n",
            "-----checking done-----\n",
            "-----month 2-----\n",
            "  % Total    % Received % Xferd  Average Speed   Time    Time     Time  Current\n",
            "                                 Dload  Upload   Total   Spent    Left  Speed\n",
            "100  5591  100   200  100  5391      9    264  0:00:22  0:00:20  0:00:02    47\n",
            "Received <head><title>Object moved</title></head>\n",
            "<body><h1>Object Moved</h1>This object may be found <a HREF=\"https://transtats.bts.gov/ftproot/TranStatsData/76459920_T_ONTIME_REPORTING.zip\">here</a>.</body>\n",
            "https://transtats.bts.gov/ftproot/TranStatsData/76459920_T_ONTIME_REPORTING.zip\n",
            "  % Total    % Received % Xferd  Average Speed   Time    Time     Time  Current\n",
            "                                 Dload  Upload   Total   Spent    Left  Speed\n",
            "100 16.6M  100 16.6M    0     0   613k      0  0:00:27  0:00:27 --:--:--  662k\n",
            "-----2020 2 download complete-----\n",
            "-----Unzipping-----\n",
            "Archive:  20202.zip\n",
            "  inflating: 76459920_T_ONTIME_REPORTING.csv  \n",
            "-----Removing old .zip file-----\n",
            "-----done-----\n",
            "-----Cleaning data-----\n",
            "-----done-----\n",
            "-----Data checking-----\n",
            "header is ...\n",
            "YEAR,MONTH,DAY_OF_MONTH,DAY_OF_WEEK,OP_UNIQUE_CARRIER,TAIL_NUM,OP_CARRIER_FL_NUM,ORIGIN,DEST,CRS_DEP_TIME,DEP_TIME,DEP_DELAY,TAXI_OUT,TAXI_IN,CRS_ARR_TIME,ARR_TIME,ARR_DELAY,CANCELLED,CANCELLATION_CODE,DIVERTED,CRS_ELAPSED_TIME,ACTUAL_ELAPSED_TIME,AIR_TIME,DISTANCE,CARRIER_DELAY,WEATHER_DELAY,NAS_DELAY,SECURITY_DELAY,LATE_AIRCRAFT_DELAY\n",
            "2020,1,1,3,WN,N951WN,5888,ONT,SFO,1810,1851,41.00,44.00,4.00,1945,2053,68.00,0.00,,0.00,95.00,122.00,74.00,363.00,8.00,0.00,27.00,0.00,33.00\n",
            "2020,1,1,3,WN,N467WN,6276,ONT,SFO,1150,1146,-4.00,13.00,8.00,1320,1318,-2.00,0.00,,0.00,90.00,92.00,71.00,363.00,,,,,\n",
            "2020,1,1,3,WN,N7885A,4598,ONT,SJC,2020,2016,-4.00,8.00,3.00,2130,2124,-6.00,0.00,,0.00,70.00,68.00,57.00,333.00,,,,,\n",
            "2020,1,1,3,WN,N551WN,4761,ONT,SJC,1340,1350,10.00,10.00,2.00,1455,1505,10.00,0.00,,0.00,75.00,75.00,63.00,333.00,,,,,\n",
            "2020,1,1,3,WN,N968WN,5162,ONT,SJC,0915,0916,1.00,6.00,4.00,1035,1023,-12.00,0.00,,0.00,80.00,67.00,57.00,333.00,,,,,\n",
            "2020,1,1,3,WN,N7856A,5684,ONT,SJC,0600,0602,2.00,17.00,6.00,0715,0722,7.00,0.00,,0.00,75.00,80.00,57.00,333.00,,,,,\n",
            "2020,1,1,3,WN,N7735A,6152,ONT,SJC,1620,1624,4.00,6.00,4.00,1740,1736,-4.00,0.00,,0.00,80.00,72.00,62.00,333.00,,,,,\n",
            "2020,1,1,3,WN,N405WN,1679,ONT,SMF,1505,1604,59.00,5.00,2.00,1630,1717,47.00,0.00,,0.00,85.00,73.00,66.00,390.00,0.00,0.00,0.00,7.00,40.00\n",
            "2020,1,1,3,WN,N489WN,3479,ONT,SMF,1230,1225,-5.00,8.00,19.00,1355,1405,10.00,0.00,,0.00,85.00,100.00,73.00,390.00,,,,,\n",
            "should be 29 fields, there are: \n",
            "29\n",
            "The number of observations are...\n",
            "607347 20202.csv\n",
            "-----checking done-----\n",
            "-----month 3-----\n",
            "  % Total    % Received % Xferd  Average Speed   Time    Time     Time  Current\n",
            "                                 Dload  Upload   Total   Spent    Left  Speed\n",
            "100  5591  100   200  100  5391     10    288  0:00:20  0:00:18  0:00:02    56\n",
            "Received <head><title>Object moved</title></head>\n",
            "<body><h1>Object Moved</h1>This object may be found <a HREF=\"https://transtats.bts.gov/ftproot/TranStatsData/76460108_T_ONTIME_REPORTING.zip\">here</a>.</body>\n",
            "https://transtats.bts.gov/ftproot/TranStatsData/76460108_T_ONTIME_REPORTING.zip\n",
            "  % Total    % Received % Xferd  Average Speed   Time    Time     Time  Current\n",
            "                                 Dload  Upload   Total   Spent    Left  Speed\n",
            "100 16.6M  100 16.6M    0     0   485k      0  0:00:35  0:00:35 --:--:--  625k\n",
            "-----2020 3 download complete-----\n",
            "-----Unzipping-----\n",
            "Archive:  20203.zip\n",
            "  inflating: 76460108_T_ONTIME_REPORTING.csv  \n",
            "-----Removing old .zip file-----\n",
            "-----done-----\n",
            "-----Cleaning data-----\n",
            "-----done-----\n",
            "-----Data checking-----\n",
            "header is ...\n",
            "YEAR,MONTH,DAY_OF_MONTH,DAY_OF_WEEK,OP_UNIQUE_CARRIER,TAIL_NUM,OP_CARRIER_FL_NUM,ORIGIN,DEST,CRS_DEP_TIME,DEP_TIME,DEP_DELAY,TAXI_OUT,TAXI_IN,CRS_ARR_TIME,ARR_TIME,ARR_DELAY,CANCELLED,CANCELLATION_CODE,DIVERTED,CRS_ELAPSED_TIME,ACTUAL_ELAPSED_TIME,AIR_TIME,DISTANCE,CARRIER_DELAY,WEATHER_DELAY,NAS_DELAY,SECURITY_DELAY,LATE_AIRCRAFT_DELAY\n",
            "2020,1,1,3,WN,N951WN,5888,ONT,SFO,1810,1851,41.00,44.00,4.00,1945,2053,68.00,0.00,,0.00,95.00,122.00,74.00,363.00,8.00,0.00,27.00,0.00,33.00\n",
            "2020,1,1,3,WN,N467WN,6276,ONT,SFO,1150,1146,-4.00,13.00,8.00,1320,1318,-2.00,0.00,,0.00,90.00,92.00,71.00,363.00,,,,,\n",
            "2020,1,1,3,WN,N7885A,4598,ONT,SJC,2020,2016,-4.00,8.00,3.00,2130,2124,-6.00,0.00,,0.00,70.00,68.00,57.00,333.00,,,,,\n",
            "2020,1,1,3,WN,N551WN,4761,ONT,SJC,1340,1350,10.00,10.00,2.00,1455,1505,10.00,0.00,,0.00,75.00,75.00,63.00,333.00,,,,,\n",
            "2020,1,1,3,WN,N968WN,5162,ONT,SJC,0915,0916,1.00,6.00,4.00,1035,1023,-12.00,0.00,,0.00,80.00,67.00,57.00,333.00,,,,,\n",
            "2020,1,1,3,WN,N7856A,5684,ONT,SJC,0600,0602,2.00,17.00,6.00,0715,0722,7.00,0.00,,0.00,75.00,80.00,57.00,333.00,,,,,\n",
            "2020,1,1,3,WN,N7735A,6152,ONT,SJC,1620,1624,4.00,6.00,4.00,1740,1736,-4.00,0.00,,0.00,80.00,72.00,62.00,333.00,,,,,\n",
            "2020,1,1,3,WN,N405WN,1679,ONT,SMF,1505,1604,59.00,5.00,2.00,1630,1717,47.00,0.00,,0.00,85.00,73.00,66.00,390.00,0.00,0.00,0.00,7.00,40.00\n",
            "2020,1,1,3,WN,N489WN,3479,ONT,SMF,1230,1225,-5.00,8.00,19.00,1355,1405,10.00,0.00,,0.00,85.00,100.00,73.00,390.00,,,,,\n",
            "should be 29 fields, there are: \n",
            "29\n",
            "The number of observations are...\n",
            "607347 20203.csv\n",
            "-----checking done-----\n",
            "-----Total observations-----\n",
            "   607347 20201.csv\n",
            "   607347 20202.csv\n",
            "   607347 20203.csv\n",
            "  1822041 total\n"
          ],
          "name": "stdout"
        }
      ]
    },
    {
      "cell_type": "markdown",
      "metadata": {
        "id": "URx2frycq0ym"
      },
      "source": [
        "Preprocess \n"
      ]
    },
    {
      "cell_type": "code",
      "metadata": {
        "id": "tNUBT9YJrdGs"
      },
      "source": [
        "columns = {\n",
        "    'YEAR' : 'Year', \n",
        "    'MONTH' : 'Month', \n",
        "    'DAY_OF_MONTH' : 'DayofMonth', \n",
        "    'DAY_OF_WEEK' : 'DayOfWeek', \n",
        "    'DEP_TIME' : 'DepTime', \n",
        "    'CRS_DEP_TIME' : 'CRSDepTime',\n",
        "    'ARR_TIME' : 'ArrTime',\n",
        "    'CRS_ARR_TIME' : 'CRSArrTime',\n",
        "    'OP_UNIQUE_CARRIER' : 'UniqueCarrier',\n",
        "    'OP_CARRIER_FL_NUM' : 'FlightNum', \n",
        "    'TAIL_NUM' : 'TailNum', \n",
        "    'ACTUAL_ELAPSED_TIME' : 'ActualElapsedTime', \n",
        "    'CRS_ELAPSED_TIME' : 'CRSElapsedTime', \n",
        "    'AIR_TIME' : 'AirTime',\n",
        "    'ARR_DELAY' : 'ArrDelay',\n",
        "    'DEP_DELAY' : 'DepDelay',\n",
        "    'ORIGIN' : 'Origin', \n",
        "    'DEST' : 'Dest', \n",
        "    'DISTANCE' : 'Distance',\n",
        "    'TAXI_IN' : 'TaxiIn',\n",
        "    'TAXI_OUT' : 'TaxiOut', \n",
        "    'CANCELLED' : 'Cancelled', \n",
        "    'CANCELLATION_CODE' : 'CancellationCode', \n",
        "    'DIVERTED' : 'Diverted',\n",
        "    'CARRIER_DELAY' : 'CarrierDelay', \n",
        "    'WEATHER_DELAY' : 'WeatherDelay', \n",
        "    'NAS_DELAY' : 'NASDelay', \n",
        "    'SECURITY_DELAY' : 'SecurityDelay',\n",
        "    'LATE_AIRCRAFT_DELAY' : 'LateAircraftDelay'\n",
        "}"
      ],
      "execution_count": null,
      "outputs": []
    },
    {
      "cell_type": "code",
      "metadata": {
        "id": "3iCL9ZZx2jFK"
      },
      "source": [
        "import pandas as pd\n",
        "import glob"
      ],
      "execution_count": null,
      "outputs": []
    },
    {
      "cell_type": "code",
      "metadata": {
        "id": "3nEf1yc-pmEd"
      },
      "source": [
        "extension = 'csv'\n",
        "os.chdir('data')\n",
        "all_filenames = [i for i in glob.glob('*.{}'.format(extension))]\n",
        "combined_csv = pd.concat([pd.read_csv(f) for f in all_filenames])\n",
        "combined_csv.rename(columns=columns, inplace=True)\n",
        "combined_csv = combined_csv[list(columns.values())]\n",
        "combined_csv.to_csv('raw.csv', index=False, encoding='utf-8-sig')\n",
        "os.chdir('../')"
      ],
      "execution_count": null,
      "outputs": []
    },
    {
      "cell_type": "code",
      "metadata": {
        "id": "GjGByVdWqV4j"
      },
      "source": [
        "df = pd.read_csv('data/raw.csv')"
      ],
      "execution_count": null,
      "outputs": []
    },
    {
      "cell_type": "code",
      "metadata": {
        "id": "Z-gp12Yrvyz8",
        "outputId": "509d4c0a-b3b7-4252-bc9e-3cf2bd5fef63",
        "colab": {
          "base_uri": "https://localhost:8080/",
          "height": 422
        }
      },
      "source": [
        "df"
      ],
      "execution_count": null,
      "outputs": [
        {
          "output_type": "execute_result",
          "data": {
            "text/html": [
              "<div>\n",
              "<style scoped>\n",
              "    .dataframe tbody tr th:only-of-type {\n",
              "        vertical-align: middle;\n",
              "    }\n",
              "\n",
              "    .dataframe tbody tr th {\n",
              "        vertical-align: top;\n",
              "    }\n",
              "\n",
              "    .dataframe thead th {\n",
              "        text-align: right;\n",
              "    }\n",
              "</style>\n",
              "<table border=\"1\" class=\"dataframe\">\n",
              "  <thead>\n",
              "    <tr style=\"text-align: right;\">\n",
              "      <th></th>\n",
              "      <th>Year</th>\n",
              "      <th>Month</th>\n",
              "      <th>DayofMonth</th>\n",
              "      <th>DayOfWeek</th>\n",
              "      <th>DepTime</th>\n",
              "      <th>CRSDepTime</th>\n",
              "      <th>ArrTime</th>\n",
              "      <th>CRSArrTime</th>\n",
              "      <th>UniqueCarrier</th>\n",
              "      <th>FlightNum</th>\n",
              "      <th>TailNum</th>\n",
              "      <th>ActualElapsedTime</th>\n",
              "      <th>CRSElapsedTime</th>\n",
              "      <th>AirTime</th>\n",
              "      <th>ArrDelay</th>\n",
              "      <th>DepDelay</th>\n",
              "      <th>Origin</th>\n",
              "      <th>Dest</th>\n",
              "      <th>Distance</th>\n",
              "      <th>TaxiIn</th>\n",
              "      <th>TaxiOut</th>\n",
              "      <th>Cancelled</th>\n",
              "      <th>CancellationCode</th>\n",
              "      <th>Diverted</th>\n",
              "      <th>CarrierDelay</th>\n",
              "      <th>WeatherDelay</th>\n",
              "      <th>NASDelay</th>\n",
              "      <th>SecurityDelay</th>\n",
              "      <th>LateAircraftDelay</th>\n",
              "    </tr>\n",
              "  </thead>\n",
              "  <tbody>\n",
              "    <tr>\n",
              "      <th>0</th>\n",
              "      <td>2020</td>\n",
              "      <td>1</td>\n",
              "      <td>1</td>\n",
              "      <td>3</td>\n",
              "      <td>1851.0</td>\n",
              "      <td>1810</td>\n",
              "      <td>2053.0</td>\n",
              "      <td>1945</td>\n",
              "      <td>WN</td>\n",
              "      <td>5888</td>\n",
              "      <td>N951WN</td>\n",
              "      <td>122.0</td>\n",
              "      <td>95.0</td>\n",
              "      <td>74.0</td>\n",
              "      <td>68.0</td>\n",
              "      <td>41.0</td>\n",
              "      <td>ONT</td>\n",
              "      <td>SFO</td>\n",
              "      <td>363.0</td>\n",
              "      <td>4.0</td>\n",
              "      <td>44.0</td>\n",
              "      <td>0.0</td>\n",
              "      <td>NaN</td>\n",
              "      <td>0.0</td>\n",
              "      <td>8.0</td>\n",
              "      <td>0.0</td>\n",
              "      <td>27.0</td>\n",
              "      <td>0.0</td>\n",
              "      <td>33.0</td>\n",
              "    </tr>\n",
              "    <tr>\n",
              "      <th>1</th>\n",
              "      <td>2020</td>\n",
              "      <td>1</td>\n",
              "      <td>1</td>\n",
              "      <td>3</td>\n",
              "      <td>1146.0</td>\n",
              "      <td>1150</td>\n",
              "      <td>1318.0</td>\n",
              "      <td>1320</td>\n",
              "      <td>WN</td>\n",
              "      <td>6276</td>\n",
              "      <td>N467WN</td>\n",
              "      <td>92.0</td>\n",
              "      <td>90.0</td>\n",
              "      <td>71.0</td>\n",
              "      <td>-2.0</td>\n",
              "      <td>-4.0</td>\n",
              "      <td>ONT</td>\n",
              "      <td>SFO</td>\n",
              "      <td>363.0</td>\n",
              "      <td>8.0</td>\n",
              "      <td>13.0</td>\n",
              "      <td>0.0</td>\n",
              "      <td>NaN</td>\n",
              "      <td>0.0</td>\n",
              "      <td>NaN</td>\n",
              "      <td>NaN</td>\n",
              "      <td>NaN</td>\n",
              "      <td>NaN</td>\n",
              "      <td>NaN</td>\n",
              "    </tr>\n",
              "    <tr>\n",
              "      <th>2</th>\n",
              "      <td>2020</td>\n",
              "      <td>1</td>\n",
              "      <td>1</td>\n",
              "      <td>3</td>\n",
              "      <td>2016.0</td>\n",
              "      <td>2020</td>\n",
              "      <td>2124.0</td>\n",
              "      <td>2130</td>\n",
              "      <td>WN</td>\n",
              "      <td>4598</td>\n",
              "      <td>N7885A</td>\n",
              "      <td>68.0</td>\n",
              "      <td>70.0</td>\n",
              "      <td>57.0</td>\n",
              "      <td>-6.0</td>\n",
              "      <td>-4.0</td>\n",
              "      <td>ONT</td>\n",
              "      <td>SJC</td>\n",
              "      <td>333.0</td>\n",
              "      <td>3.0</td>\n",
              "      <td>8.0</td>\n",
              "      <td>0.0</td>\n",
              "      <td>NaN</td>\n",
              "      <td>0.0</td>\n",
              "      <td>NaN</td>\n",
              "      <td>NaN</td>\n",
              "      <td>NaN</td>\n",
              "      <td>NaN</td>\n",
              "      <td>NaN</td>\n",
              "    </tr>\n",
              "    <tr>\n",
              "      <th>3</th>\n",
              "      <td>2020</td>\n",
              "      <td>1</td>\n",
              "      <td>1</td>\n",
              "      <td>3</td>\n",
              "      <td>1350.0</td>\n",
              "      <td>1340</td>\n",
              "      <td>1505.0</td>\n",
              "      <td>1455</td>\n",
              "      <td>WN</td>\n",
              "      <td>4761</td>\n",
              "      <td>N551WN</td>\n",
              "      <td>75.0</td>\n",
              "      <td>75.0</td>\n",
              "      <td>63.0</td>\n",
              "      <td>10.0</td>\n",
              "      <td>10.0</td>\n",
              "      <td>ONT</td>\n",
              "      <td>SJC</td>\n",
              "      <td>333.0</td>\n",
              "      <td>2.0</td>\n",
              "      <td>10.0</td>\n",
              "      <td>0.0</td>\n",
              "      <td>NaN</td>\n",
              "      <td>0.0</td>\n",
              "      <td>NaN</td>\n",
              "      <td>NaN</td>\n",
              "      <td>NaN</td>\n",
              "      <td>NaN</td>\n",
              "      <td>NaN</td>\n",
              "    </tr>\n",
              "    <tr>\n",
              "      <th>4</th>\n",
              "      <td>2020</td>\n",
              "      <td>1</td>\n",
              "      <td>1</td>\n",
              "      <td>3</td>\n",
              "      <td>916.0</td>\n",
              "      <td>915</td>\n",
              "      <td>1023.0</td>\n",
              "      <td>1035</td>\n",
              "      <td>WN</td>\n",
              "      <td>5162</td>\n",
              "      <td>N968WN</td>\n",
              "      <td>67.0</td>\n",
              "      <td>80.0</td>\n",
              "      <td>57.0</td>\n",
              "      <td>-12.0</td>\n",
              "      <td>1.0</td>\n",
              "      <td>ONT</td>\n",
              "      <td>SJC</td>\n",
              "      <td>333.0</td>\n",
              "      <td>4.0</td>\n",
              "      <td>6.0</td>\n",
              "      <td>0.0</td>\n",
              "      <td>NaN</td>\n",
              "      <td>0.0</td>\n",
              "      <td>NaN</td>\n",
              "      <td>NaN</td>\n",
              "      <td>NaN</td>\n",
              "      <td>NaN</td>\n",
              "      <td>NaN</td>\n",
              "    </tr>\n",
              "    <tr>\n",
              "      <th>...</th>\n",
              "      <td>...</td>\n",
              "      <td>...</td>\n",
              "      <td>...</td>\n",
              "      <td>...</td>\n",
              "      <td>...</td>\n",
              "      <td>...</td>\n",
              "      <td>...</td>\n",
              "      <td>...</td>\n",
              "      <td>...</td>\n",
              "      <td>...</td>\n",
              "      <td>...</td>\n",
              "      <td>...</td>\n",
              "      <td>...</td>\n",
              "      <td>...</td>\n",
              "      <td>...</td>\n",
              "      <td>...</td>\n",
              "      <td>...</td>\n",
              "      <td>...</td>\n",
              "      <td>...</td>\n",
              "      <td>...</td>\n",
              "      <td>...</td>\n",
              "      <td>...</td>\n",
              "      <td>...</td>\n",
              "      <td>...</td>\n",
              "      <td>...</td>\n",
              "      <td>...</td>\n",
              "      <td>...</td>\n",
              "      <td>...</td>\n",
              "      <td>...</td>\n",
              "    </tr>\n",
              "    <tr>\n",
              "      <th>1822033</th>\n",
              "      <td>2020</td>\n",
              "      <td>1</td>\n",
              "      <td>18</td>\n",
              "      <td>6</td>\n",
              "      <td>2039.0</td>\n",
              "      <td>2042</td>\n",
              "      <td>2128.0</td>\n",
              "      <td>2142</td>\n",
              "      <td>9E</td>\n",
              "      <td>4960</td>\n",
              "      <td>N390CA</td>\n",
              "      <td>109.0</td>\n",
              "      <td>120.0</td>\n",
              "      <td>93.0</td>\n",
              "      <td>-14.0</td>\n",
              "      <td>-3.0</td>\n",
              "      <td>ATL</td>\n",
              "      <td>SGF</td>\n",
              "      <td>563.0</td>\n",
              "      <td>4.0</td>\n",
              "      <td>12.0</td>\n",
              "      <td>0.0</td>\n",
              "      <td>NaN</td>\n",
              "      <td>0.0</td>\n",
              "      <td>NaN</td>\n",
              "      <td>NaN</td>\n",
              "      <td>NaN</td>\n",
              "      <td>NaN</td>\n",
              "      <td>NaN</td>\n",
              "    </tr>\n",
              "    <tr>\n",
              "      <th>1822034</th>\n",
              "      <td>2020</td>\n",
              "      <td>1</td>\n",
              "      <td>19</td>\n",
              "      <td>7</td>\n",
              "      <td>2041.0</td>\n",
              "      <td>2042</td>\n",
              "      <td>2135.0</td>\n",
              "      <td>2145</td>\n",
              "      <td>9E</td>\n",
              "      <td>4960</td>\n",
              "      <td>N398CA</td>\n",
              "      <td>114.0</td>\n",
              "      <td>123.0</td>\n",
              "      <td>92.0</td>\n",
              "      <td>-10.0</td>\n",
              "      <td>-1.0</td>\n",
              "      <td>ATL</td>\n",
              "      <td>SGF</td>\n",
              "      <td>563.0</td>\n",
              "      <td>9.0</td>\n",
              "      <td>13.0</td>\n",
              "      <td>0.0</td>\n",
              "      <td>NaN</td>\n",
              "      <td>0.0</td>\n",
              "      <td>NaN</td>\n",
              "      <td>NaN</td>\n",
              "      <td>NaN</td>\n",
              "      <td>NaN</td>\n",
              "      <td>NaN</td>\n",
              "    </tr>\n",
              "    <tr>\n",
              "      <th>1822035</th>\n",
              "      <td>2020</td>\n",
              "      <td>1</td>\n",
              "      <td>20</td>\n",
              "      <td>1</td>\n",
              "      <td>2038.0</td>\n",
              "      <td>2042</td>\n",
              "      <td>2132.0</td>\n",
              "      <td>2145</td>\n",
              "      <td>9E</td>\n",
              "      <td>4960</td>\n",
              "      <td>N398CA</td>\n",
              "      <td>114.0</td>\n",
              "      <td>123.0</td>\n",
              "      <td>89.0</td>\n",
              "      <td>-13.0</td>\n",
              "      <td>-4.0</td>\n",
              "      <td>ATL</td>\n",
              "      <td>SGF</td>\n",
              "      <td>563.0</td>\n",
              "      <td>7.0</td>\n",
              "      <td>18.0</td>\n",
              "      <td>0.0</td>\n",
              "      <td>NaN</td>\n",
              "      <td>0.0</td>\n",
              "      <td>NaN</td>\n",
              "      <td>NaN</td>\n",
              "      <td>NaN</td>\n",
              "      <td>NaN</td>\n",
              "      <td>NaN</td>\n",
              "    </tr>\n",
              "    <tr>\n",
              "      <th>1822036</th>\n",
              "      <td>2020</td>\n",
              "      <td>1</td>\n",
              "      <td>21</td>\n",
              "      <td>2</td>\n",
              "      <td>2052.0</td>\n",
              "      <td>2042</td>\n",
              "      <td>2150.0</td>\n",
              "      <td>2145</td>\n",
              "      <td>9E</td>\n",
              "      <td>4960</td>\n",
              "      <td>N367CA</td>\n",
              "      <td>118.0</td>\n",
              "      <td>123.0</td>\n",
              "      <td>83.0</td>\n",
              "      <td>5.0</td>\n",
              "      <td>10.0</td>\n",
              "      <td>ATL</td>\n",
              "      <td>SGF</td>\n",
              "      <td>563.0</td>\n",
              "      <td>18.0</td>\n",
              "      <td>17.0</td>\n",
              "      <td>0.0</td>\n",
              "      <td>NaN</td>\n",
              "      <td>0.0</td>\n",
              "      <td>NaN</td>\n",
              "      <td>NaN</td>\n",
              "      <td>NaN</td>\n",
              "      <td>NaN</td>\n",
              "      <td>NaN</td>\n",
              "    </tr>\n",
              "    <tr>\n",
              "      <th>1822037</th>\n",
              "      <td>2020</td>\n",
              "      <td>1</td>\n",
              "      <td>22</td>\n",
              "      <td>3</td>\n",
              "      <td>2037.0</td>\n",
              "      <td>2042</td>\n",
              "      <td>2122.0</td>\n",
              "      <td>2145</td>\n",
              "      <td>9E</td>\n",
              "      <td>4960</td>\n",
              "      <td>N317CA</td>\n",
              "      <td>105.0</td>\n",
              "      <td>123.0</td>\n",
              "      <td>91.0</td>\n",
              "      <td>-23.0</td>\n",
              "      <td>-5.0</td>\n",
              "      <td>ATL</td>\n",
              "      <td>SGF</td>\n",
              "      <td>563.0</td>\n",
              "      <td>3.0</td>\n",
              "      <td>11.0</td>\n",
              "      <td>0.0</td>\n",
              "      <td>NaN</td>\n",
              "      <td>0.0</td>\n",
              "      <td>NaN</td>\n",
              "      <td>NaN</td>\n",
              "      <td>NaN</td>\n",
              "      <td>NaN</td>\n",
              "      <td>NaN</td>\n",
              "    </tr>\n",
              "  </tbody>\n",
              "</table>\n",
              "<p>1822038 rows × 29 columns</p>\n",
              "</div>"
            ],
            "text/plain": [
              "         Year  Month  DayofMonth  ...  NASDelay  SecurityDelay  LateAircraftDelay\n",
              "0        2020      1           1  ...      27.0            0.0               33.0\n",
              "1        2020      1           1  ...       NaN            NaN                NaN\n",
              "2        2020      1           1  ...       NaN            NaN                NaN\n",
              "3        2020      1           1  ...       NaN            NaN                NaN\n",
              "4        2020      1           1  ...       NaN            NaN                NaN\n",
              "...       ...    ...         ...  ...       ...            ...                ...\n",
              "1822033  2020      1          18  ...       NaN            NaN                NaN\n",
              "1822034  2020      1          19  ...       NaN            NaN                NaN\n",
              "1822035  2020      1          20  ...       NaN            NaN                NaN\n",
              "1822036  2020      1          21  ...       NaN            NaN                NaN\n",
              "1822037  2020      1          22  ...       NaN            NaN                NaN\n",
              "\n",
              "[1822038 rows x 29 columns]"
            ]
          },
          "metadata": {
            "tags": []
          },
          "execution_count": 9
        }
      ]
    },
    {
      "cell_type": "markdown",
      "metadata": {
        "id": "oD64F8Tb6YSp"
      },
      "source": [
        "EDA"
      ]
    },
    {
      "cell_type": "code",
      "metadata": {
        "id": "0ok9_eh_6Y6q"
      },
      "source": [
        "#TODO"
      ],
      "execution_count": null,
      "outputs": []
    },
    {
      "cell_type": "markdown",
      "metadata": {
        "id": "MCnG--4V6arw"
      },
      "source": [
        "Select features and split data"
      ]
    },
    {
      "cell_type": "code",
      "metadata": {
        "id": "WiZjG3kS_3x1"
      },
      "source": [
        "RANDOM_STATE = 0\n",
        "TRAIN_NUM_SAMPLES = 1000\n",
        "TEST_NUM_SAMPLES = 200"
      ],
      "execution_count": null,
      "outputs": []
    },
    {
      "cell_type": "code",
      "metadata": {
        "id": "veunyL-4C-89"
      },
      "source": [
        "df = pd.read_csv('data/raw.csv')"
      ],
      "execution_count": null,
      "outputs": []
    },
    {
      "cell_type": "code",
      "metadata": {
        "id": "YWX37mgd6b16"
      },
      "source": [
        "features = ['Month', 'DayOfWeek', 'Distance']\n",
        "target = 'DepDelay'"
      ],
      "execution_count": null,
      "outputs": []
    },
    {
      "cell_type": "code",
      "metadata": {
        "id": "2htLA07p_xR7"
      },
      "source": [
        "train = df[[*features, target]].dropna().sample(TRAIN_NUM_SAMPLES, random_state=RANDOM_STATE)\n",
        "test = df[~df.index.isin(train.index)][[*features, target]].dropna().sample(TEST_NUM_SAMPLES, random_state=RANDOM_STATE)"
      ],
      "execution_count": null,
      "outputs": []
    },
    {
      "cell_type": "code",
      "metadata": {
        "id": "YQmAdEErAOtZ",
        "outputId": "ba0063a7-8a07-4c2b-f9d6-a766aa05e6dc",
        "colab": {
          "base_uri": "https://localhost:8080/",
          "height": 402
        }
      },
      "source": [
        "test"
      ],
      "execution_count": null,
      "outputs": [
        {
          "output_type": "execute_result",
          "data": {
            "text/html": [
              "<div>\n",
              "<style scoped>\n",
              "    .dataframe tbody tr th:only-of-type {\n",
              "        vertical-align: middle;\n",
              "    }\n",
              "\n",
              "    .dataframe tbody tr th {\n",
              "        vertical-align: top;\n",
              "    }\n",
              "\n",
              "    .dataframe thead th {\n",
              "        text-align: right;\n",
              "    }\n",
              "</style>\n",
              "<table border=\"1\" class=\"dataframe\">\n",
              "  <thead>\n",
              "    <tr style=\"text-align: right;\">\n",
              "      <th></th>\n",
              "      <th>Month</th>\n",
              "      <th>DayOfWeek</th>\n",
              "      <th>Distance</th>\n",
              "      <th>DepDelay</th>\n",
              "    </tr>\n",
              "  </thead>\n",
              "  <tbody>\n",
              "    <tr>\n",
              "      <th>1782732</th>\n",
              "      <td>1</td>\n",
              "      <td>7</td>\n",
              "      <td>588.0</td>\n",
              "      <td>-7.0</td>\n",
              "    </tr>\n",
              "    <tr>\n",
              "      <th>338451</th>\n",
              "      <td>1</td>\n",
              "      <td>4</td>\n",
              "      <td>728.0</td>\n",
              "      <td>-14.0</td>\n",
              "    </tr>\n",
              "    <tr>\n",
              "      <th>1716114</th>\n",
              "      <td>1</td>\n",
              "      <td>7</td>\n",
              "      <td>696.0</td>\n",
              "      <td>15.0</td>\n",
              "    </tr>\n",
              "    <tr>\n",
              "      <th>67878</th>\n",
              "      <td>1</td>\n",
              "      <td>1</td>\n",
              "      <td>957.0</td>\n",
              "      <td>-8.0</td>\n",
              "    </tr>\n",
              "    <tr>\n",
              "      <th>831416</th>\n",
              "      <td>1</td>\n",
              "      <td>3</td>\n",
              "      <td>606.0</td>\n",
              "      <td>0.0</td>\n",
              "    </tr>\n",
              "    <tr>\n",
              "      <th>...</th>\n",
              "      <td>...</td>\n",
              "      <td>...</td>\n",
              "      <td>...</td>\n",
              "      <td>...</td>\n",
              "    </tr>\n",
              "    <tr>\n",
              "      <th>949482</th>\n",
              "      <td>1</td>\n",
              "      <td>4</td>\n",
              "      <td>899.0</td>\n",
              "      <td>102.0</td>\n",
              "    </tr>\n",
              "    <tr>\n",
              "      <th>168692</th>\n",
              "      <td>1</td>\n",
              "      <td>2</td>\n",
              "      <td>224.0</td>\n",
              "      <td>-4.0</td>\n",
              "    </tr>\n",
              "    <tr>\n",
              "      <th>193358</th>\n",
              "      <td>1</td>\n",
              "      <td>3</td>\n",
              "      <td>177.0</td>\n",
              "      <td>-10.0</td>\n",
              "    </tr>\n",
              "    <tr>\n",
              "      <th>50465</th>\n",
              "      <td>1</td>\n",
              "      <td>1</td>\n",
              "      <td>1050.0</td>\n",
              "      <td>0.0</td>\n",
              "    </tr>\n",
              "    <tr>\n",
              "      <th>1497398</th>\n",
              "      <td>1</td>\n",
              "      <td>4</td>\n",
              "      <td>867.0</td>\n",
              "      <td>-11.0</td>\n",
              "    </tr>\n",
              "  </tbody>\n",
              "</table>\n",
              "<p>200 rows × 4 columns</p>\n",
              "</div>"
            ],
            "text/plain": [
              "         Month  DayOfWeek  Distance  DepDelay\n",
              "1782732      1          7     588.0      -7.0\n",
              "338451       1          4     728.0     -14.0\n",
              "1716114      1          7     696.0      15.0\n",
              "67878        1          1     957.0      -8.0\n",
              "831416       1          3     606.0       0.0\n",
              "...        ...        ...       ...       ...\n",
              "949482       1          4     899.0     102.0\n",
              "168692       1          2     224.0      -4.0\n",
              "193358       1          3     177.0     -10.0\n",
              "50465        1          1    1050.0       0.0\n",
              "1497398      1          4     867.0     -11.0\n",
              "\n",
              "[200 rows x 4 columns]"
            ]
          },
          "metadata": {
            "tags": []
          },
          "execution_count": 15
        }
      ]
    },
    {
      "cell_type": "code",
      "metadata": {
        "id": "TEK32FzZAPVY"
      },
      "source": [
        "train.to_csv('data/train.csv', index=False)\n",
        "test.to_csv('data/test.csv', index=False)"
      ],
      "execution_count": null,
      "outputs": []
    },
    {
      "cell_type": "markdown",
      "metadata": {
        "id": "vFeYY6xdA6tP"
      },
      "source": [
        "Initialize model"
      ]
    },
    {
      "cell_type": "code",
      "metadata": {
        "id": "S53aG-u3FOGX"
      },
      "source": [
        "MODEL_KWARGS = {\n",
        "    'loss' : 'squared_loss',\n",
        "    'penalty' : 'l2',\n",
        "    'alpha' : 0.0001\n",
        "}"
      ],
      "execution_count": null,
      "outputs": []
    },
    {
      "cell_type": "code",
      "metadata": {
        "id": "5g7UMa5HAdXJ"
      },
      "source": [
        "from sklearn.linear_model import SGDRegressor\n",
        "from sklearn.preprocessing import StandardScaler"
      ],
      "execution_count": null,
      "outputs": []
    },
    {
      "cell_type": "code",
      "metadata": {
        "id": "CNFotDPHBC0q"
      },
      "source": [
        "scaler = StandardScaler()\n",
        "reg = SGDRegressor(**MODEL_KWARGS)"
      ],
      "execution_count": null,
      "outputs": []
    },
    {
      "cell_type": "markdown",
      "metadata": {
        "id": "dAPxu5K6IWoW"
      },
      "source": [
        "Initialize metrics"
      ]
    },
    {
      "cell_type": "code",
      "metadata": {
        "id": "Imp1Nz6nIV7u"
      },
      "source": [
        "from sklearn.metrics import r2_score, mean_squared_error"
      ],
      "execution_count": null,
      "outputs": []
    },
    {
      "cell_type": "markdown",
      "metadata": {
        "id": "14OG11gJEV2e"
      },
      "source": [
        "Cross Validation"
      ]
    },
    {
      "cell_type": "code",
      "metadata": {
        "id": "zURrSxQgEXZ4"
      },
      "source": [
        "train = pd.read_csv('data/train.csv')\n",
        "\n",
        "x_train = train[features].to_numpy()\n",
        "y_train = train[target].to_numpy()\n",
        "\n",
        "x_train = scaler.fit_transform(x_train)"
      ],
      "execution_count": null,
      "outputs": []
    },
    {
      "cell_type": "code",
      "metadata": {
        "id": "wvPty03yFFqo"
      },
      "source": [
        "from sklearn.model_selection import KFold"
      ],
      "execution_count": null,
      "outputs": []
    },
    {
      "cell_type": "code",
      "metadata": {
        "id": "2i1Vp1wrHAQ5"
      },
      "source": [
        "k_fold = KFold(5)\n",
        "\n",
        "results = pd.DataFrame(columns=['alpha', 'MSE', 'R2'])\n",
        "for _, (train_idx, val_idx) in enumerate(k_fold.split(x_train, y_train)):\n",
        "    reg.fit(x_train[train_idx], y_train[train_idx])\n",
        "    y_pred = reg.predict(x_train[val_idx])\n",
        "    r2 = r2_score(y_true=y_train[val_idx], y_pred=y_pred)\n",
        "    mse = mean_squared_error(y_true=y_train[val_idx], y_pred=y_pred)\n",
        "    results = results.append({'alpha' : MODEL_KWARGS['alpha'], 'MSE' : mse, 'R2' : r2}, ignore_index=True)"
      ],
      "execution_count": null,
      "outputs": []
    },
    {
      "cell_type": "code",
      "metadata": {
        "id": "JnruCu6zKTRA",
        "outputId": "1c86666d-861f-43ea-f116-ba34d55bcd58",
        "colab": {
          "base_uri": "https://localhost:8080/",
          "height": 195
        }
      },
      "source": [
        "results"
      ],
      "execution_count": null,
      "outputs": [
        {
          "output_type": "execute_result",
          "data": {
            "text/html": [
              "<div>\n",
              "<style scoped>\n",
              "    .dataframe tbody tr th:only-of-type {\n",
              "        vertical-align: middle;\n",
              "    }\n",
              "\n",
              "    .dataframe tbody tr th {\n",
              "        vertical-align: top;\n",
              "    }\n",
              "\n",
              "    .dataframe thead th {\n",
              "        text-align: right;\n",
              "    }\n",
              "</style>\n",
              "<table border=\"1\" class=\"dataframe\">\n",
              "  <thead>\n",
              "    <tr style=\"text-align: right;\">\n",
              "      <th></th>\n",
              "      <th>alpha</th>\n",
              "      <th>MSE</th>\n",
              "      <th>R2</th>\n",
              "    </tr>\n",
              "  </thead>\n",
              "  <tbody>\n",
              "    <tr>\n",
              "      <th>0</th>\n",
              "      <td>0.0001</td>\n",
              "      <td>2151.073502</td>\n",
              "      <td>-0.004225</td>\n",
              "    </tr>\n",
              "    <tr>\n",
              "      <th>1</th>\n",
              "      <td>0.0001</td>\n",
              "      <td>898.730871</td>\n",
              "      <td>-0.008088</td>\n",
              "    </tr>\n",
              "    <tr>\n",
              "      <th>2</th>\n",
              "      <td>0.0001</td>\n",
              "      <td>861.633683</td>\n",
              "      <td>-0.001946</td>\n",
              "    </tr>\n",
              "    <tr>\n",
              "      <th>3</th>\n",
              "      <td>0.0001</td>\n",
              "      <td>675.671629</td>\n",
              "      <td>-0.011821</td>\n",
              "    </tr>\n",
              "    <tr>\n",
              "      <th>4</th>\n",
              "      <td>0.0001</td>\n",
              "      <td>1092.404106</td>\n",
              "      <td>-0.004232</td>\n",
              "    </tr>\n",
              "  </tbody>\n",
              "</table>\n",
              "</div>"
            ],
            "text/plain": [
              "    alpha          MSE        R2\n",
              "0  0.0001  2151.073502 -0.004225\n",
              "1  0.0001   898.730871 -0.008088\n",
              "2  0.0001   861.633683 -0.001946\n",
              "3  0.0001   675.671629 -0.011821\n",
              "4  0.0001  1092.404106 -0.004232"
            ]
          },
          "metadata": {
            "tags": []
          },
          "execution_count": 25
        }
      ]
    },
    {
      "cell_type": "code",
      "metadata": {
        "id": "uThgEx-tKgHL",
        "outputId": "85473432-8cb4-4899-a434-5c84547faac9",
        "colab": {
          "base_uri": "https://localhost:8080/",
          "height": 284
        }
      },
      "source": [
        "results[['MSE', 'R2']].describe()"
      ],
      "execution_count": null,
      "outputs": [
        {
          "output_type": "execute_result",
          "data": {
            "text/html": [
              "<div>\n",
              "<style scoped>\n",
              "    .dataframe tbody tr th:only-of-type {\n",
              "        vertical-align: middle;\n",
              "    }\n",
              "\n",
              "    .dataframe tbody tr th {\n",
              "        vertical-align: top;\n",
              "    }\n",
              "\n",
              "    .dataframe thead th {\n",
              "        text-align: right;\n",
              "    }\n",
              "</style>\n",
              "<table border=\"1\" class=\"dataframe\">\n",
              "  <thead>\n",
              "    <tr style=\"text-align: right;\">\n",
              "      <th></th>\n",
              "      <th>MSE</th>\n",
              "      <th>R2</th>\n",
              "    </tr>\n",
              "  </thead>\n",
              "  <tbody>\n",
              "    <tr>\n",
              "      <th>count</th>\n",
              "      <td>5.000000</td>\n",
              "      <td>5.000000</td>\n",
              "    </tr>\n",
              "    <tr>\n",
              "      <th>mean</th>\n",
              "      <td>1135.902758</td>\n",
              "      <td>-0.006063</td>\n",
              "    </tr>\n",
              "    <tr>\n",
              "      <th>std</th>\n",
              "      <td>586.461954</td>\n",
              "      <td>0.003903</td>\n",
              "    </tr>\n",
              "    <tr>\n",
              "      <th>min</th>\n",
              "      <td>675.671629</td>\n",
              "      <td>-0.011821</td>\n",
              "    </tr>\n",
              "    <tr>\n",
              "      <th>25%</th>\n",
              "      <td>861.633683</td>\n",
              "      <td>-0.008088</td>\n",
              "    </tr>\n",
              "    <tr>\n",
              "      <th>50%</th>\n",
              "      <td>898.730871</td>\n",
              "      <td>-0.004232</td>\n",
              "    </tr>\n",
              "    <tr>\n",
              "      <th>75%</th>\n",
              "      <td>1092.404106</td>\n",
              "      <td>-0.004225</td>\n",
              "    </tr>\n",
              "    <tr>\n",
              "      <th>max</th>\n",
              "      <td>2151.073502</td>\n",
              "      <td>-0.001946</td>\n",
              "    </tr>\n",
              "  </tbody>\n",
              "</table>\n",
              "</div>"
            ],
            "text/plain": [
              "               MSE        R2\n",
              "count     5.000000  5.000000\n",
              "mean   1135.902758 -0.006063\n",
              "std     586.461954  0.003903\n",
              "min     675.671629 -0.011821\n",
              "25%     861.633683 -0.008088\n",
              "50%     898.730871 -0.004232\n",
              "75%    1092.404106 -0.004225\n",
              "max    2151.073502 -0.001946"
            ]
          },
          "metadata": {
            "tags": []
          },
          "execution_count": 26
        }
      ]
    },
    {
      "cell_type": "markdown",
      "metadata": {
        "id": "khiCiv30MVtq"
      },
      "source": [
        "Train"
      ]
    },
    {
      "cell_type": "code",
      "metadata": {
        "id": "ch0h5qraKjXX",
        "outputId": "a2db51fc-ab0c-41fa-a094-36ce732ba890",
        "colab": {
          "base_uri": "https://localhost:8080/"
        }
      },
      "source": [
        "reg.fit(x_train, y_train)"
      ],
      "execution_count": null,
      "outputs": [
        {
          "output_type": "execute_result",
          "data": {
            "text/plain": [
              "SGDRegressor(alpha=0.0001, average=False, early_stopping=False, epsilon=0.1,\n",
              "             eta0=0.01, fit_intercept=True, l1_ratio=0.15,\n",
              "             learning_rate='invscaling', loss='squared_loss', max_iter=1000,\n",
              "             n_iter_no_change=5, penalty='l2', power_t=0.25, random_state=None,\n",
              "             shuffle=True, tol=0.001, validation_fraction=0.1, verbose=0,\n",
              "             warm_start=False)"
            ]
          },
          "metadata": {
            "tags": []
          },
          "execution_count": 27
        }
      ]
    },
    {
      "cell_type": "markdown",
      "metadata": {
        "id": "2rdC1bTENZgH"
      },
      "source": [
        "Test"
      ]
    },
    {
      "cell_type": "code",
      "metadata": {
        "id": "RoJXMrAZNYIN"
      },
      "source": [
        "test = pd.read_csv('data/test.csv')\n",
        "\n",
        "x_test = test[features].to_numpy()\n",
        "y_test = test[target].to_numpy()\n",
        "\n",
        "x_test = scaler.transform(x_test)"
      ],
      "execution_count": null,
      "outputs": []
    },
    {
      "cell_type": "code",
      "metadata": {
        "id": "WIjH45w4Nqe4"
      },
      "source": [
        "y_pred = reg.predict(x_test)\n",
        "\n",
        "mse = mean_squared_error(y_true=y_test, y_pred=y_pred)\n",
        "r2 = r2_score(y_true=y_test, y_pred=y_pred)"
      ],
      "execution_count": null,
      "outputs": []
    },
    {
      "cell_type": "code",
      "metadata": {
        "id": "zooWI0b9OCiZ",
        "outputId": "ee4adedd-7f70-4c54-ece9-3f54b1aa4eb1",
        "colab": {
          "base_uri": "https://localhost:8080/"
        }
      },
      "source": [
        "print(f'MSE: {mse},\\nR2: {r2}.')"
      ],
      "execution_count": null,
      "outputs": [
        {
          "output_type": "stream",
          "text": [
            "MSE: 9386.178146510701,\n",
            "R2: -0.005946422324571543.\n"
          ],
          "name": "stdout"
        }
      ]
    },
    {
      "cell_type": "code",
      "metadata": {
        "id": "nr-cc8mIOM0f"
      },
      "source": [
        ""
      ],
      "execution_count": null,
      "outputs": []
    }
  ]
}